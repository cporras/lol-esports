{
  "nbformat": 4,
  "nbformat_minor": 0,
  "metadata": {
    "kernelspec": {
      "display_name": "Python 3",
      "language": "python",
      "name": "python3"
    },
    "language_info": {
      "codemirror_mode": {
        "name": "ipython",
        "version": 3
      },
      "file_extension": ".py",
      "mimetype": "text/x-python",
      "name": "python",
      "nbconvert_exporter": "python",
      "pygments_lexer": "ipython3",
      "version": "3.8.5"
    },
    "varInspector": {
      "cols": {
        "lenName": 16,
        "lenType": 16,
        "lenVar": 40
      },
      "kernels_config": {
        "python": {
          "delete_cmd_postfix": "",
          "delete_cmd_prefix": "del ",
          "library": "var_list.py",
          "varRefreshCmd": "print(var_dic_list())"
        },
        "r": {
          "delete_cmd_postfix": ") ",
          "delete_cmd_prefix": "rm(",
          "library": "var_list.r",
          "varRefreshCmd": "cat(var_dic_list()) "
        }
      },
      "types_to_exclude": [
        "module",
        "function",
        "builtin_function_or_method",
        "instance",
        "_Feature"
      ],
      "window_display": false
    },
    "colab": {
      "name": "Desafío - Algoritmos de Clasificación 2 - KNN, K-Nearest-Neighbors.ipynb",
      "provenance": [],
      "collapsed_sections": []
    }
  },
  "cells": [
    {
      "cell_type": "markdown",
      "metadata": {
        "id": "HZU3SPOziAyY"
      },
      "source": [
        "**Algoritmos de Clasificación 2 - KNN, K-Nearest-Neighbors - LoL e-sports**"
      ]
    },
    {
      "cell_type": "code",
      "metadata": {
        "id": "v_n3S0LaZjNz"
      },
      "source": [
        "import pandas as pd\n",
        "import numpy as np\n",
        "import matplotlib.pyplot as plt\n",
        "from sklearn.model_selection import train_test_split #la libreria para separar en train y test\n",
        "from sklearn.neighbors import KNeighborsClassifier #knn"
      ],
      "execution_count": 2,
      "outputs": []
    },
    {
      "cell_type": "code",
      "metadata": {
        "id": "qwRz_BVaEalv"
      },
      "source": [
        "url_teams = 'https://raw.githubusercontent.com/cporras/lol-esports/main/Data/df_teams.csv'\n",
        "df = pd.read_csv(url_teams)"
      ],
      "execution_count": 3,
      "outputs": []
    },
    {
      "cell_type": "code",
      "metadata": {
        "id": "o_9SQ6aFGazg",
        "colab": {
          "base_uri": "https://localhost:8080/",
          "height": 206
        },
        "outputId": "5234d664-bb72-4a18-81f0-dda4c98db6b7"
      },
      "source": [
        "#Usamos las estadisticas obtenidas al minuto 15 de una partida,\n",
        "#de esta manera entrenaremos un modelo con el objetivo de predecir el resultado de un juego al minuto 15\n",
        "\n",
        "#Los datos que entran son resultado, primer asesinato, primer dragon, primer heraldo, primera torre, y oro, experiencia, cs y asesinatos al minuto 15\n",
        "features = ['result','firstblood','firstdragon','firstherald','firsttower','goldat15','xpat15','csat15','golddiffat15','xpdiffat15','csdiffat15','killsat15','assistsat15','deathsat15']\n",
        "df_feat =  df[features]\n",
        "df_feat.head()"
      ],
      "execution_count": 4,
      "outputs": [
        {
          "output_type": "execute_result",
          "data": {
            "text/html": [
              "<div>\n",
              "<style scoped>\n",
              "    .dataframe tbody tr th:only-of-type {\n",
              "        vertical-align: middle;\n",
              "    }\n",
              "\n",
              "    .dataframe tbody tr th {\n",
              "        vertical-align: top;\n",
              "    }\n",
              "\n",
              "    .dataframe thead th {\n",
              "        text-align: right;\n",
              "    }\n",
              "</style>\n",
              "<table border=\"1\" class=\"dataframe\">\n",
              "  <thead>\n",
              "    <tr style=\"text-align: right;\">\n",
              "      <th></th>\n",
              "      <th>result</th>\n",
              "      <th>firstblood</th>\n",
              "      <th>firstdragon</th>\n",
              "      <th>firstherald</th>\n",
              "      <th>firsttower</th>\n",
              "      <th>goldat15</th>\n",
              "      <th>xpat15</th>\n",
              "      <th>csat15</th>\n",
              "      <th>golddiffat15</th>\n",
              "      <th>xpdiffat15</th>\n",
              "      <th>csdiffat15</th>\n",
              "      <th>killsat15</th>\n",
              "      <th>assistsat15</th>\n",
              "      <th>deathsat15</th>\n",
              "    </tr>\n",
              "  </thead>\n",
              "  <tbody>\n",
              "    <tr>\n",
              "      <th>0</th>\n",
              "      <td>0</td>\n",
              "      <td>1.0</td>\n",
              "      <td>1.0</td>\n",
              "      <td>1.0</td>\n",
              "      <td>1.0</td>\n",
              "      <td>24815.0</td>\n",
              "      <td>31121.0</td>\n",
              "      <td>608.0</td>\n",
              "      <td>951.0</td>\n",
              "      <td>-107.0</td>\n",
              "      <td>18.0</td>\n",
              "      <td>1.0</td>\n",
              "      <td>1.0</td>\n",
              "      <td>0.0</td>\n",
              "    </tr>\n",
              "    <tr>\n",
              "      <th>1</th>\n",
              "      <td>1</td>\n",
              "      <td>0.0</td>\n",
              "      <td>0.0</td>\n",
              "      <td>0.0</td>\n",
              "      <td>0.0</td>\n",
              "      <td>23864.0</td>\n",
              "      <td>31228.0</td>\n",
              "      <td>590.0</td>\n",
              "      <td>-951.0</td>\n",
              "      <td>107.0</td>\n",
              "      <td>-18.0</td>\n",
              "      <td>0.0</td>\n",
              "      <td>0.0</td>\n",
              "      <td>1.0</td>\n",
              "    </tr>\n",
              "    <tr>\n",
              "      <th>2</th>\n",
              "      <td>0</td>\n",
              "      <td>0.0</td>\n",
              "      <td>0.0</td>\n",
              "      <td>1.0</td>\n",
              "      <td>1.0</td>\n",
              "      <td>27355.0</td>\n",
              "      <td>32158.0</td>\n",
              "      <td>560.0</td>\n",
              "      <td>2145.0</td>\n",
              "      <td>-420.0</td>\n",
              "      <td>44.0</td>\n",
              "      <td>5.0</td>\n",
              "      <td>6.0</td>\n",
              "      <td>6.0</td>\n",
              "    </tr>\n",
              "    <tr>\n",
              "      <th>3</th>\n",
              "      <td>1</td>\n",
              "      <td>1.0</td>\n",
              "      <td>1.0</td>\n",
              "      <td>0.0</td>\n",
              "      <td>0.0</td>\n",
              "      <td>25210.0</td>\n",
              "      <td>32578.0</td>\n",
              "      <td>516.0</td>\n",
              "      <td>-2145.0</td>\n",
              "      <td>420.0</td>\n",
              "      <td>-44.0</td>\n",
              "      <td>6.0</td>\n",
              "      <td>9.0</td>\n",
              "      <td>5.0</td>\n",
              "    </tr>\n",
              "    <tr>\n",
              "      <th>4</th>\n",
              "      <td>0</td>\n",
              "      <td>1.0</td>\n",
              "      <td>1.0</td>\n",
              "      <td>1.0</td>\n",
              "      <td>0.0</td>\n",
              "      <td>24131.0</td>\n",
              "      <td>29284.0</td>\n",
              "      <td>527.0</td>\n",
              "      <td>-457.0</td>\n",
              "      <td>-1218.0</td>\n",
              "      <td>-16.0</td>\n",
              "      <td>2.0</td>\n",
              "      <td>3.0</td>\n",
              "      <td>3.0</td>\n",
              "    </tr>\n",
              "  </tbody>\n",
              "</table>\n",
              "</div>"
            ],
            "text/plain": [
              "   result  firstblood  firstdragon  ...  killsat15  assistsat15  deathsat15\n",
              "0       0         1.0          1.0  ...        1.0          1.0         0.0\n",
              "1       1         0.0          0.0  ...        0.0          0.0         1.0\n",
              "2       0         0.0          0.0  ...        5.0          6.0         6.0\n",
              "3       1         1.0          1.0  ...        6.0          9.0         5.0\n",
              "4       0         1.0          1.0  ...        2.0          3.0         3.0\n",
              "\n",
              "[5 rows x 14 columns]"
            ]
          },
          "metadata": {},
          "execution_count": 4
        }
      ]
    },
    {
      "cell_type": "code",
      "metadata": {
        "id": "ABOakwWwhsVg",
        "colab": {
          "base_uri": "https://localhost:8080/"
        },
        "outputId": "a8c62556-a1cb-4c9e-cd0a-610cf1674c94"
      },
      "source": [
        "df_feat.shape"
      ],
      "execution_count": null,
      "outputs": [
        {
          "output_type": "execute_result",
          "data": {
            "text/plain": [
              "(682, 14)"
            ]
          },
          "metadata": {},
          "execution_count": 4
        }
      ]
    },
    {
      "cell_type": "code",
      "metadata": {
        "id": "mLjz6HRghxmp",
        "colab": {
          "base_uri": "https://localhost:8080/"
        },
        "outputId": "b351ade3-ef25-4522-eb7a-924f401e5a15"
      },
      "source": [
        "df_feat.dtypes"
      ],
      "execution_count": null,
      "outputs": [
        {
          "output_type": "execute_result",
          "data": {
            "text/plain": [
              "result            int64\n",
              "firstblood      float64\n",
              "firstdragon     float64\n",
              "firstherald     float64\n",
              "firsttower      float64\n",
              "goldat15        float64\n",
              "xpat15          float64\n",
              "csat15          float64\n",
              "golddiffat15    float64\n",
              "xpdiffat15      float64\n",
              "csdiffat15      float64\n",
              "killsat15       float64\n",
              "assistsat15     float64\n",
              "deathsat15      float64\n",
              "dtype: object"
            ]
          },
          "metadata": {},
          "execution_count": 5
        }
      ]
    },
    {
      "cell_type": "code",
      "metadata": {
        "id": "r-RoGXs9juJX",
        "colab": {
          "base_uri": "https://localhost:8080/"
        },
        "outputId": "3fd0bb3c-41a8-4558-9dc7-9712aa3a7a04"
      },
      "source": [
        "df_feat.dropna(axis=0, how='any', thresh=None, subset=None, inplace=True)"
      ],
      "execution_count": 5,
      "outputs": [
        {
          "output_type": "stream",
          "name": "stderr",
          "text": [
            "/usr/local/lib/python3.7/dist-packages/ipykernel_launcher.py:1: SettingWithCopyWarning: \n",
            "A value is trying to be set on a copy of a slice from a DataFrame\n",
            "\n",
            "See the caveats in the documentation: https://pandas.pydata.org/pandas-docs/stable/user_guide/indexing.html#returning-a-view-versus-a-copy\n",
            "  \"\"\"Entry point for launching an IPython kernel.\n"
          ]
        }
      ]
    },
    {
      "cell_type": "code",
      "metadata": {
        "id": "8Tpa2F-ViECH"
      },
      "source": [
        "#Separamos los datos de entrada de la salida\n",
        "X = df_feat.drop('result', axis=1) #Elimino de mi dataset la variable a predecir\n",
        "y = df_feat.result #Defino el Target"
      ],
      "execution_count": 6,
      "outputs": []
    },
    {
      "cell_type": "code",
      "metadata": {
        "id": "4t5iiv-mh75e"
      },
      "source": [
        "#Separación del dataset, 30% para test y 70% para train\n",
        "X_train, X_test, y_train, y_test = train_test_split(X, y, test_size=0.30, random_state=42) "
      ],
      "execution_count": 7,
      "outputs": []
    },
    {
      "cell_type": "code",
      "metadata": {
        "id": "YXnDJg8aTu4V",
        "colab": {
          "base_uri": "https://localhost:8080/"
        },
        "outputId": "f226794f-224c-4dbd-f642-13ffd37dd965"
      },
      "source": [
        "from sklearn.neighbors import KNeighborsClassifier\n",
        "\n",
        "knn = KNeighborsClassifier(n_neighbors=5)\n",
        "X = X_train\n",
        "y = y_train\n",
        "\n",
        "knn.fit(X, y)"
      ],
      "execution_count": 8,
      "outputs": [
        {
          "output_type": "execute_result",
          "data": {
            "text/plain": [
              "KNeighborsClassifier()"
            ]
          },
          "metadata": {},
          "execution_count": 8
        }
      ]
    },
    {
      "cell_type": "code",
      "metadata": {
        "id": "wvwoXxc5T5-A"
      },
      "source": [
        "y_train_pred = knn.predict(X_train) #Prediccion en Train\n",
        "y_test_pred = knn.predict(X_test) #Prediccion en Test"
      ],
      "execution_count": 9,
      "outputs": []
    },
    {
      "cell_type": "code",
      "metadata": {
        "id": "mVrB5tzZUAAL",
        "colab": {
          "base_uri": "https://localhost:8080/"
        },
        "outputId": "a7c23fa4-ed76-4dfc-b362-9685ee9a5105"
      },
      "source": [
        "from sklearn.metrics import accuracy_score\n",
        "\n",
        "#Calculo el accuracy en Train\n",
        "train_accuracy = accuracy_score(y_train, y_train_pred)\n",
        "\n",
        "#Calculo el accuracy en Test\n",
        "test_accuracy = accuracy_score(y_test, y_test_pred)\n",
        "\n",
        "print('% de aciertos sobre el set de entrenamiento:', train_accuracy)\n",
        "print('% de aciertos sobre el set de evaluación:',test_accuracy)"
      ],
      "execution_count": 10,
      "outputs": [
        {
          "output_type": "stream",
          "name": "stdout",
          "text": [
            "% de aciertos sobre el set de entrenamiento: 0.8375527426160337\n",
            "% de aciertos sobre el set de evaluación: 0.7843137254901961\n"
          ]
        }
      ]
    },
    {
      "cell_type": "code",
      "metadata": {
        "id": "Uiyd1EbyUu9Z",
        "colab": {
          "base_uri": "https://localhost:8080/",
          "height": 295
        },
        "outputId": "ede5cde2-6078-4600-8644-a5bb4cf04435"
      },
      "source": [
        "rows = []\n",
        "for i in range(1,40):\n",
        "  knn = KNeighborsClassifier(n_neighbors=i)\n",
        "  knn.fit(X, y)\n",
        "  y_train_pred = knn.predict(X_train)\n",
        "  y_test_pred = knn.predict(X_test)\n",
        "  train_accuracy = accuracy_score(y_train, y_train_pred)\n",
        "  test_accuracy = accuracy_score(y_test, y_test_pred)\n",
        "  rows.append([i, test_accuracy,train_accuracy])\n",
        "acc = pd.DataFrame(rows, columns=['K', 'Train Accuracy','Test Accuracy'])\n",
        "acc.plot(kind='line', x='K', y =['Train Accuracy','Test Accuracy'])\n",
        "plt.title('Accuracy por número K')\n",
        "plt.show()"
      ],
      "execution_count": 12,
      "outputs": [
        {
          "output_type": "display_data",
          "data": {
            "image/png": "[encoded data removed]",
            "text/plain": [
              "<Figure size 432x288 with 1 Axes>"
            ]
          },
          "metadata": {
            "needs_background": "light"
          }
        }
      ]
    },
    {
      "cell_type": "code",
      "metadata": {
        "id": "4j3POykCeBFP"
      },
      "source": [
        "#Se decide trabajar con 5 vecinos\n",
        "knn = KNeighborsClassifier(n_neighbors=5)\n",
        "X = X_train\n",
        "y = y_train\n",
        "knn.fit(X, y)\n",
        "y_train_pred = knn.predict(X_train) #Prediccion en Train\n",
        "y_test_pred = knn.predict(X_test) #Prediccion en Test"
      ],
      "execution_count": 13,
      "outputs": []
    },
    {
      "cell_type": "markdown",
      "metadata": {
        "id": "tQZuWaoEde2K"
      },
      "source": [
        "#Evaluación del modelo"
      ]
    },
    {
      "cell_type": "code",
      "metadata": {
        "colab": {
          "base_uri": "https://localhost:8080/"
        },
        "id": "PAz345E6deBV",
        "outputId": "d2b69ae9-bbc6-4a36-b3a6-47b40b1995cd"
      },
      "source": [
        "#Calculo el accuracy en Test\n",
        "test_accuracy = accuracy_score(y_test, y_test_pred)\n",
        "\n",
        "print('% de aciertos sobre el set de evaluación:',test_accuracy)"
      ],
      "execution_count": 14,
      "outputs": [
        {
          "output_type": "stream",
          "name": "stdout",
          "text": [
            "% de aciertos sobre el set de evaluación: 0.7843137254901961\n"
          ]
        }
      ]
    },
    {
      "cell_type": "code",
      "metadata": {
        "colab": {
          "base_uri": "https://localhost:8080/",
          "height": 369
        },
        "id": "fGRTXb82eLjD",
        "outputId": "968701ca-8a29-484c-f52a-38599fdfffcd"
      },
      "source": [
        "import matplotlib.pyplot as plt\n",
        "from sklearn.metrics import confusion_matrix\n",
        "from sklearn.metrics import plot_confusion_matrix\n",
        "\n",
        "#Matriz de Confusión\n",
        "print(confusion_matrix(y_test, y_test_pred))\n",
        "\n",
        "#Ploteamos la Matriz\n",
        "plot_confusion_matrix(knn, X_test, y_test)\n",
        "plt.show()\n",
        "\n"
      ],
      "execution_count": 17,
      "outputs": [
        {
          "output_type": "stream",
          "name": "stdout",
          "text": [
            "[[79 23]\n",
            " [21 81]]\n"
          ]
        },
        {
          "output_type": "stream",
          "name": "stderr",
          "text": [
            "/usr/local/lib/python3.7/dist-packages/sklearn/utils/deprecation.py:87: FutureWarning: Function plot_confusion_matrix is deprecated; Function `plot_confusion_matrix` is deprecated in 1.0 and will be removed in 1.2. Use one of the class methods: ConfusionMatrixDisplay.from_predictions or ConfusionMatrixDisplay.from_estimator.\n",
            "  warnings.warn(msg, category=FutureWarning)\n"
          ]
        },
        {
          "output_type": "display_data",
          "data": {
            "image/png": "[encoded data removed]",
            "text/plain": [
              "<Figure size 432x288 with 2 Axes>"
            ]
          },
          "metadata": {
            "needs_background": "light"
          }
        }
      ]
    },
    {
      "cell_type": "code",
      "metadata": {
        "colab": {
          "base_uri": "https://localhost:8080/"
        },
        "id": "S_Mn5ZePeNxD",
        "outputId": "78102862-087b-4ffe-a587-9cb3f52f6ab2"
      },
      "source": [
        "cm = confusion_matrix(y_test, y_test_pred)\n",
        "precision = cm[1][1] / (cm[1][1]+cm[1][0])\n",
        "recall  = cm[1][1] / (cm[1][1]+cm[0][1])\n",
        "accuracy  = (cm[1][1]+cm[0][0]) / (cm[0][0]+cm[0][1]+cm[1][0]+cm[1][1])\n",
        "especifity  = cm[0][0] / (cm[0][0]+cm[0][1])\n",
        "print('precision:   % ',precision)\n",
        "print('recall:      % ',recall)\n",
        "print('accuracy:    % ',accuracy)\n",
        "print('especifity:  % ',especifity)"
      ],
      "execution_count": 18,
      "outputs": [
        {
          "output_type": "stream",
          "name": "stdout",
          "text": [
            "precision:   %  0.7941176470588235\n",
            "recall:      %  0.7788461538461539\n",
            "accuracy:    %  0.7843137254901961\n",
            "especifity:  %  0.7745098039215687\n"
          ]
        }
      ]
    },
    {
      "cell_type": "code",
      "metadata": {
        "colab": {
          "base_uri": "https://localhost:8080/"
        },
        "id": "Y87SmtBKeUVA",
        "outputId": "b8977979-0f75-4404-c268-b79cfcf0f22a"
      },
      "source": [
        "from sklearn.metrics import f1_score\n",
        "\n",
        "# Calculo del F1 score\n",
        "print(\"F1 Score:    % \", f1_score(y_test, y_test_pred))"
      ],
      "execution_count": 19,
      "outputs": [
        {
          "output_type": "stream",
          "name": "stdout",
          "text": [
            "F1 Score:    %  0.7864077669902914\n"
          ]
        }
      ]
    },
    {
      "cell_type": "markdown",
      "metadata": {
        "id": "13QMQr8ZeYAA"
      },
      "source": [
        "#Curva ROC"
      ]
    },
    {
      "cell_type": "code",
      "metadata": {
        "colab": {
          "base_uri": "https://localhost:8080/",
          "height": 312
        },
        "id": "rIVTdFuVeY-C",
        "outputId": "879bfef1-6cc1-442d-86f0-326808ec6264"
      },
      "source": [
        "from sklearn.metrics import roc_curve, auc\n",
        "\n",
        "class_probabilities = knn.predict_proba(X_test)\n",
        "preds = class_probabilities[:, 1]\n",
        "\n",
        "fpr, tpr, threshold = roc_curve(y_test, y_test_pred)\n",
        "roc_auc = auc(fpr, tpr)\n",
        "\n",
        "# AUC\n",
        "print(f\"AUC for our classifier is: {roc_auc}\")\n",
        "\n",
        "# Gráfica de la Curva ROC\n",
        "plt.title('Receiver Operating Characteristic')\n",
        "plt.plot(fpr, tpr, 'b', label = 'AUC = %0.2f' % roc_auc)\n",
        "plt.legend(loc = 'lower right')\n",
        "plt.plot([0, 1], [0, 1],'r--')\n",
        "plt.xlim([0, 1])\n",
        "plt.ylim([0, 1])\n",
        "plt.ylabel('True Positive Rate')\n",
        "plt.xlabel('False Positive Rate')\n",
        "plt.show()"
      ],
      "execution_count": 20,
      "outputs": [
        {
          "output_type": "stream",
          "name": "stdout",
          "text": [
            "AUC for our classifier is: 0.784313725490196\n"
          ]
        },
        {
          "output_type": "display_data",
          "data": {
            "image/png": "[encoded data removed]",
            "text/plain": [
              "<Figure size 432x288 with 1 Axes>"
            ]
          },
          "metadata": {
            "needs_background": "light"
          }
        }
      ]
    }
  ]
}