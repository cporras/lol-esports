{
  "nbformat": 4,
  "nbformat_minor": 0,
  "metadata": {
    "kernelspec": {
      "display_name": "Python 3",
      "language": "python",
      "name": "python3"
    },
    "language_info": {
      "codemirror_mode": {
        "name": "ipython",
        "version": 3
      },
      "file_extension": ".py",
      "mimetype": "text/x-python",
      "name": "python",
      "nbconvert_exporter": "python",
      "pygments_lexer": "ipython3",
      "version": "3.8.5"
    },
    "varInspector": {
      "cols": {
        "lenName": 16,
        "lenType": 16,
        "lenVar": 40
      },
      "kernels_config": {
        "python": {
          "delete_cmd_postfix": "",
          "delete_cmd_prefix": "del ",
          "library": "var_list.py",
          "varRefreshCmd": "print(var_dic_list())"
        },
        "r": {
          "delete_cmd_postfix": ") ",
          "delete_cmd_prefix": "rm(",
          "library": "var_list.r",
          "varRefreshCmd": "cat(var_dic_list()) "
        }
      },
      "types_to_exclude": [
        "module",
        "function",
        "builtin_function_or_method",
        "instance",
        "_Feature"
      ],
      "window_display": false
    },
    "colab": {
      "name": "Copia de Desafío - Algoritmos de Clasificación 2 - KNN, K-Nearest-Neighbors.ipynb",
      "provenance": [],
      "collapsed_sections": []
    }
  },
  "cells": [
    {
      "cell_type": "markdown",
      "metadata": {
        "id": "HZU3SPOziAyY"
      },
      "source": [
        "**Algoritmos de Clasificación 5 - Mejorando KNN - LoL e-sports**"
      ]
    },
    {
      "cell_type": "code",
      "metadata": {
        "id": "v_n3S0LaZjNz"
      },
      "source": [
        "import pandas as pd\n",
        "import numpy as np\n",
        "import matplotlib.pyplot as plt\n",
        "from sklearn.model_selection import train_test_split #la libreria para separar en train y test\n",
        "from sklearn.neighbors import KNeighborsClassifier #knn"
      ],
      "execution_count": 73,
      "outputs": []
    },
    {
      "cell_type": "code",
      "metadata": {
        "id": "qwRz_BVaEalv"
      },
      "source": [
        "url_teams = 'https://raw.githubusercontent.com/cporras/lol-esports/main/Data/df_teams.csv'\n",
        "df = pd.read_csv(url_teams)"
      ],
      "execution_count": 152,
      "outputs": []
    },
    {
      "cell_type": "code",
      "metadata": {
        "id": "o_9SQ6aFGazg",
        "colab": {
          "base_uri": "https://localhost:8080/",
          "height": 206
        },
        "outputId": "425baea1-6524-4886-9eaa-a5dba9f52732"
      },
      "source": [
        "#Usamos las estadisticas obtenidas al minuto 15 de una partida,\n",
        "#de esta manera entrenaremos un modelo con el objetivo de predecir el resultado de un juego al minuto 15\n",
        "\n",
        "#Los datos que entran son resultado, primer asesinato, primer dragon, primer heraldo, primera torre, y oro, experiencia, cs y asesinatos al minuto 15\n",
        "features = ['result','firstblood','firstdragon','firstherald','firsttower','goldat15','xpat15','csat15','golddiffat15','xpdiffat15','csdiffat15','killsat15','assistsat15','deathsat15']\n",
        "df_feat =  df[features]\n",
        "df_feat.head()"
      ],
      "execution_count": 153,
      "outputs": [
        {
          "output_type": "execute_result",
          "data": {
            "text/html": [
              "\n",
              "  <div id=\"df-71965a45-cec0-4a99-a447-6d8045798e61\">\n",
              "    <div class=\"colab-df-container\">\n",
              "      <div>\n",
              "<style scoped>\n",
              "    .dataframe tbody tr th:only-of-type {\n",
              "        vertical-align: middle;\n",
              "    }\n",
              "\n",
              "    .dataframe tbody tr th {\n",
              "        vertical-align: top;\n",
              "    }\n",
              "\n",
              "    .dataframe thead th {\n",
              "        text-align: right;\n",
              "    }\n",
              "</style>\n",
              "<table border=\"1\" class=\"dataframe\">\n",
              "  <thead>\n",
              "    <tr style=\"text-align: right;\">\n",
              "      <th></th>\n",
              "      <th>result</th>\n",
              "      <th>firstblood</th>\n",
              "      <th>firstdragon</th>\n",
              "      <th>firstherald</th>\n",
              "      <th>firsttower</th>\n",
              "      <th>goldat15</th>\n",
              "      <th>xpat15</th>\n",
              "      <th>csat15</th>\n",
              "      <th>golddiffat15</th>\n",
              "      <th>xpdiffat15</th>\n",
              "      <th>csdiffat15</th>\n",
              "      <th>killsat15</th>\n",
              "      <th>assistsat15</th>\n",
              "      <th>deathsat15</th>\n",
              "    </tr>\n",
              "  </thead>\n",
              "  <tbody>\n",
              "    <tr>\n",
              "      <th>0</th>\n",
              "      <td>0</td>\n",
              "      <td>1.0</td>\n",
              "      <td>1.0</td>\n",
              "      <td>1.0</td>\n",
              "      <td>1.0</td>\n",
              "      <td>24815.0</td>\n",
              "      <td>31121.0</td>\n",
              "      <td>608.0</td>\n",
              "      <td>951.0</td>\n",
              "      <td>-107.0</td>\n",
              "      <td>18.0</td>\n",
              "      <td>1.0</td>\n",
              "      <td>1.0</td>\n",
              "      <td>0.0</td>\n",
              "    </tr>\n",
              "    <tr>\n",
              "      <th>1</th>\n",
              "      <td>1</td>\n",
              "      <td>0.0</td>\n",
              "      <td>0.0</td>\n",
              "      <td>0.0</td>\n",
              "      <td>0.0</td>\n",
              "      <td>23864.0</td>\n",
              "      <td>31228.0</td>\n",
              "      <td>590.0</td>\n",
              "      <td>-951.0</td>\n",
              "      <td>107.0</td>\n",
              "      <td>-18.0</td>\n",
              "      <td>0.0</td>\n",
              "      <td>0.0</td>\n",
              "      <td>1.0</td>\n",
              "    </tr>\n",
              "    <tr>\n",
              "      <th>2</th>\n",
              "      <td>0</td>\n",
              "      <td>0.0</td>\n",
              "      <td>0.0</td>\n",
              "      <td>1.0</td>\n",
              "      <td>1.0</td>\n",
              "      <td>27355.0</td>\n",
              "      <td>32158.0</td>\n",
              "      <td>560.0</td>\n",
              "      <td>2145.0</td>\n",
              "      <td>-420.0</td>\n",
              "      <td>44.0</td>\n",
              "      <td>5.0</td>\n",
              "      <td>6.0</td>\n",
              "      <td>6.0</td>\n",
              "    </tr>\n",
              "    <tr>\n",
              "      <th>3</th>\n",
              "      <td>1</td>\n",
              "      <td>1.0</td>\n",
              "      <td>1.0</td>\n",
              "      <td>0.0</td>\n",
              "      <td>0.0</td>\n",
              "      <td>25210.0</td>\n",
              "      <td>32578.0</td>\n",
              "      <td>516.0</td>\n",
              "      <td>-2145.0</td>\n",
              "      <td>420.0</td>\n",
              "      <td>-44.0</td>\n",
              "      <td>6.0</td>\n",
              "      <td>9.0</td>\n",
              "      <td>5.0</td>\n",
              "    </tr>\n",
              "    <tr>\n",
              "      <th>4</th>\n",
              "      <td>0</td>\n",
              "      <td>1.0</td>\n",
              "      <td>1.0</td>\n",
              "      <td>1.0</td>\n",
              "      <td>0.0</td>\n",
              "      <td>24131.0</td>\n",
              "      <td>29284.0</td>\n",
              "      <td>527.0</td>\n",
              "      <td>-457.0</td>\n",
              "      <td>-1218.0</td>\n",
              "      <td>-16.0</td>\n",
              "      <td>2.0</td>\n",
              "      <td>3.0</td>\n",
              "      <td>3.0</td>\n",
              "    </tr>\n",
              "  </tbody>\n",
              "</table>\n",
              "</div>\n",
              "      <button class=\"colab-df-convert\" onclick=\"convertToInteractive('df-71965a45-cec0-4a99-a447-6d8045798e61')\"\n",
              "              title=\"Convert this dataframe to an interactive table.\"\n",
              "              style=\"display:none;\">\n",
              "        \n",
              "  <svg xmlns=\"http://www.w3.org/2000/svg\" height=\"24px\"viewBox=\"0 0 24 24\"\n",
              "       width=\"24px\">\n",
              "    <path d=\"M0 0h24v24H0V0z\" fill=\"none\"/>\n",
              "    <path d=\"M18.56 5.44l.94 2.06.94-2.06 2.06-.94-2.06-.94-.94-2.06-.94 2.06-2.06.94zm-11 1L8.5 8.5l.94-2.06 2.06-.94-2.06-.94L8.5 2.5l-.94 2.06-2.06.94zm10 10l.94 2.06.94-2.06 2.06-.94-2.06-.94-.94-2.06-.94 2.06-2.06.94z\"/><path d=\"M17.41 7.96l-1.37-1.37c-.4-.4-.92-.59-1.43-.59-.52 0-1.04.2-1.43.59L10.3 9.45l-7.72 7.72c-.78.78-.78 2.05 0 2.83L4 21.41c.39.39.9.59 1.41.59.51 0 1.02-.2 1.41-.59l7.78-7.78 2.81-2.81c.8-.78.8-2.07 0-2.86zM5.41 20L4 18.59l7.72-7.72 1.47 1.35L5.41 20z\"/>\n",
              "  </svg>\n",
              "      </button>\n",
              "      \n",
              "  <style>\n",
              "    .colab-df-container {\n",
              "      display:flex;\n",
              "      flex-wrap:wrap;\n",
              "      gap: 12px;\n",
              "    }\n",
              "\n",
              "    .colab-df-convert {\n",
              "      background-color: #E8F0FE;\n",
              "      border: none;\n",
              "      border-radius: 50%;\n",
              "      cursor: pointer;\n",
              "      display: none;\n",
              "      fill: #1967D2;\n",
              "      height: 32px;\n",
              "      padding: 0 0 0 0;\n",
              "      width: 32px;\n",
              "    }\n",
              "\n",
              "    .colab-df-convert:hover {\n",
              "      background-color: #E2EBFA;\n",
              "      box-shadow: 0px 1px 2px rgba(60, 64, 67, 0.3), 0px 1px 3px 1px rgba(60, 64, 67, 0.15);\n",
              "      fill: #174EA6;\n",
              "    }\n",
              "\n",
              "    [theme=dark] .colab-df-convert {\n",
              "      background-color: #3B4455;\n",
              "      fill: #D2E3FC;\n",
              "    }\n",
              "\n",
              "    [theme=dark] .colab-df-convert:hover {\n",
              "      background-color: #434B5C;\n",
              "      box-shadow: 0px 1px 3px 1px rgba(0, 0, 0, 0.15);\n",
              "      filter: drop-shadow(0px 1px 2px rgba(0, 0, 0, 0.3));\n",
              "      fill: #FFFFFF;\n",
              "    }\n",
              "  </style>\n",
              "\n",
              "      <script>\n",
              "        const buttonEl =\n",
              "          document.querySelector('#df-71965a45-cec0-4a99-a447-6d8045798e61 button.colab-df-convert');\n",
              "        buttonEl.style.display =\n",
              "          google.colab.kernel.accessAllowed ? 'block' : 'none';\n",
              "\n",
              "        async function convertToInteractive(key) {\n",
              "          const element = document.querySelector('#df-71965a45-cec0-4a99-a447-6d8045798e61');\n",
              "          const dataTable =\n",
              "            await google.colab.kernel.invokeFunction('convertToInteractive',\n",
              "                                                     [key], {});\n",
              "          if (!dataTable) return;\n",
              "\n",
              "          const docLinkHtml = 'Like what you see? Visit the ' +\n",
              "            '<a target=\"_blank\" href=https://colab.research.google.com/notebooks/data_table.ipynb>data table notebook</a>'\n",
              "            + ' to learn more about interactive tables.';\n",
              "          element.innerHTML = '';\n",
              "          dataTable['output_type'] = 'display_data';\n",
              "          await google.colab.output.renderOutput(dataTable, element);\n",
              "          const docLink = document.createElement('div');\n",
              "          docLink.innerHTML = docLinkHtml;\n",
              "          element.appendChild(docLink);\n",
              "        }\n",
              "      </script>\n",
              "    </div>\n",
              "  </div>\n",
              "  "
            ],
            "text/plain": [
              "   result  firstblood  firstdragon  ...  killsat15  assistsat15  deathsat15\n",
              "0       0         1.0          1.0  ...        1.0          1.0         0.0\n",
              "1       1         0.0          0.0  ...        0.0          0.0         1.0\n",
              "2       0         0.0          0.0  ...        5.0          6.0         6.0\n",
              "3       1         1.0          1.0  ...        6.0          9.0         5.0\n",
              "4       0         1.0          1.0  ...        2.0          3.0         3.0\n",
              "\n",
              "[5 rows x 14 columns]"
            ]
          },
          "metadata": {},
          "execution_count": 153
        }
      ]
    },
    {
      "cell_type": "code",
      "metadata": {
        "id": "ABOakwWwhsVg",
        "colab": {
          "base_uri": "https://localhost:8080/"
        },
        "outputId": "65231352-e471-44fb-eea6-cef9677fef25"
      },
      "source": [
        "df_feat.shape"
      ],
      "execution_count": 154,
      "outputs": [
        {
          "output_type": "execute_result",
          "data": {
            "text/plain": [
              "(682, 14)"
            ]
          },
          "metadata": {},
          "execution_count": 154
        }
      ]
    },
    {
      "cell_type": "code",
      "metadata": {
        "id": "mLjz6HRghxmp",
        "colab": {
          "base_uri": "https://localhost:8080/"
        },
        "outputId": "63fcf4c8-1f1f-4535-b4df-6b4b72692191"
      },
      "source": [
        "df_feat.dtypes"
      ],
      "execution_count": 155,
      "outputs": [
        {
          "output_type": "execute_result",
          "data": {
            "text/plain": [
              "result            int64\n",
              "firstblood      float64\n",
              "firstdragon     float64\n",
              "firstherald     float64\n",
              "firsttower      float64\n",
              "goldat15        float64\n",
              "xpat15          float64\n",
              "csat15          float64\n",
              "golddiffat15    float64\n",
              "xpdiffat15      float64\n",
              "csdiffat15      float64\n",
              "killsat15       float64\n",
              "assistsat15     float64\n",
              "deathsat15      float64\n",
              "dtype: object"
            ]
          },
          "metadata": {},
          "execution_count": 155
        }
      ]
    },
    {
      "cell_type": "code",
      "metadata": {
        "id": "r-RoGXs9juJX"
      },
      "source": [
        "df_feat.dropna(axis=0, how='any', thresh=None, subset=None, inplace=True)"
      ],
      "execution_count": null,
      "outputs": []
    },
    {
      "cell_type": "code",
      "metadata": {
        "id": "8Tpa2F-ViECH"
      },
      "source": [
        "#Separamos los datos de entrada de la salida\n",
        "X = df_feat.drop('result', axis=1) #Elimino de mi dataset la variable a predecir\n",
        "y = df_feat.result #Defino el Target"
      ],
      "execution_count": 157,
      "outputs": []
    },
    {
      "cell_type": "code",
      "metadata": {
        "id": "4t5iiv-mh75e"
      },
      "source": [
        "#Separación del dataset, 30% para test y 70% para train\n",
        "X_train, X_test, y_train, y_test = train_test_split(X, y, test_size=0.30, random_state=42) "
      ],
      "execution_count": 158,
      "outputs": []
    },
    {
      "cell_type": "code",
      "metadata": {
        "id": "YXnDJg8aTu4V",
        "colab": {
          "base_uri": "https://localhost:8080/"
        },
        "outputId": "b6455e33-1ee8-483f-f2ba-4208a7f4200e"
      },
      "source": [
        "from sklearn.neighbors import KNeighborsClassifier\n",
        "\n",
        "knn = KNeighborsClassifier(n_neighbors=5)\n",
        "\n",
        "knn.fit(X_train, y_train)"
      ],
      "execution_count": 159,
      "outputs": [
        {
          "output_type": "execute_result",
          "data": {
            "text/plain": [
              "KNeighborsClassifier()"
            ]
          },
          "metadata": {},
          "execution_count": 159
        }
      ]
    },
    {
      "cell_type": "code",
      "metadata": {
        "id": "wvwoXxc5T5-A"
      },
      "source": [
        "y_train_pred = knn.predict(X_train) #Prediccion en Train\n",
        "y_test_pred = knn.predict(X_test) #Prediccion en Test"
      ],
      "execution_count": 160,
      "outputs": []
    },
    {
      "cell_type": "code",
      "metadata": {
        "id": "mVrB5tzZUAAL",
        "colab": {
          "base_uri": "https://localhost:8080/"
        },
        "outputId": "14fadab3-8a7f-422e-8a54-a8c788e0f934"
      },
      "source": [
        "from sklearn.metrics import accuracy_score\n",
        "\n",
        "#Calculo el accuracy en Train\n",
        "train_accuracy = accuracy_score(y_train, y_train_pred)\n",
        "\n",
        "#Calculo el accuracy en Test\n",
        "test_accuracy = accuracy_score(y_test, y_test_pred)\n",
        "\n",
        "print('% de aciertos sobre el set de entrenamiento:', train_accuracy)\n",
        "print('% de aciertos sobre el set de evaluación:',test_accuracy)"
      ],
      "execution_count": 161,
      "outputs": [
        {
          "output_type": "stream",
          "name": "stdout",
          "text": [
            "% de aciertos sobre el set de entrenamiento: 0.8375527426160337\n",
            "% de aciertos sobre el set de evaluación: 0.7843137254901961\n"
          ]
        }
      ]
    },
    {
      "cell_type": "code",
      "metadata": {
        "id": "Uiyd1EbyUu9Z",
        "colab": {
          "base_uri": "https://localhost:8080/",
          "height": 295
        },
        "outputId": "6a7c37a1-c522-4667-97fd-aba0e5f7c3c2"
      },
      "source": [
        "rows = []\n",
        "for i in range(1,40):\n",
        "  knn = KNeighborsClassifier(n_neighbors=i)\n",
        "  knn.fit(X_train, y_train)\n",
        "  y_train_pred = knn.predict(X_train)\n",
        "  y_test_pred = knn.predict(X_test)\n",
        "  train_accuracy = accuracy_score(y_train, y_train_pred)\n",
        "  test_accuracy = accuracy_score(y_test, y_test_pred)\n",
        "  rows.append([i, test_accuracy,train_accuracy])\n",
        "acc = pd.DataFrame(rows, columns=['K', 'Train Accuracy','Test Accuracy'])\n",
        "acc.plot(kind='line', x='K', y =['Train Accuracy','Test Accuracy'])\n",
        "plt.title('Accuracy por número K')\n",
        "plt.show()"
      ],
      "execution_count": 162,
      "outputs": [
        {
          "output_type": "display_data",
          "data": {
            "image/png": "[encoded data removed]",
            "text/plain": [
              "<Figure size 432x288 with 1 Axes>"
            ]
          },
          "metadata": {
            "needs_background": "light"
          }
        }
      ]
    },
    {
      "cell_type": "code",
      "metadata": {
        "id": "4j3POykCeBFP"
      },
      "source": [
        "#Se decide trabajar con 5 vecinos\n",
        "knn = KNeighborsClassifier(n_neighbors=5)\n",
        "knn.fit(X_train, y_train)\n",
        "y_train_pred = knn.predict(X_train) #Prediccion en Train\n",
        "y_test_pred = knn.predict(X_test) #Prediccion en Test"
      ],
      "execution_count": 163,
      "outputs": []
    },
    {
      "cell_type": "markdown",
      "metadata": {
        "id": "tQZuWaoEde2K"
      },
      "source": [
        "#Evaluación del modelo"
      ]
    },
    {
      "cell_type": "code",
      "metadata": {
        "colab": {
          "base_uri": "https://localhost:8080/"
        },
        "id": "PAz345E6deBV",
        "outputId": "bb79a28d-6a13-4cf4-f1ba-2cd6875949a9"
      },
      "source": [
        "#Calculo el accuracy en Test\n",
        "test_accuracy = accuracy_score(y_test, y_test_pred)\n",
        "\n",
        "print('% de aciertos sobre el set de evaluación:',test_accuracy)"
      ],
      "execution_count": 164,
      "outputs": [
        {
          "output_type": "stream",
          "name": "stdout",
          "text": [
            "% de aciertos sobre el set de evaluación: 0.7843137254901961\n"
          ]
        }
      ]
    },
    {
      "cell_type": "code",
      "metadata": {
        "colab": {
          "base_uri": "https://localhost:8080/",
          "height": 369
        },
        "id": "fGRTXb82eLjD",
        "outputId": "7b60e6b6-c468-4deb-c6b5-3d2d7ea82d24"
      },
      "source": [
        "import matplotlib.pyplot as plt\n",
        "from sklearn.metrics import confusion_matrix\n",
        "from sklearn.metrics import plot_confusion_matrix\n",
        "\n",
        "#Matriz de Confusión\n",
        "print(confusion_matrix(y_test, y_test_pred))\n",
        "\n",
        "#Ploteamos la Matriz\n",
        "plot_confusion_matrix(knn, X_test, y_test)\n",
        "plt.show()\n",
        "\n"
      ],
      "execution_count": 165,
      "outputs": [
        {
          "output_type": "stream",
          "name": "stdout",
          "text": [
            "[[79 23]\n",
            " [21 81]]\n"
          ]
        },
        {
          "output_type": "stream",
          "name": "stderr",
          "text": [
            "/usr/local/lib/python3.7/dist-packages/sklearn/utils/deprecation.py:87: FutureWarning: Function plot_confusion_matrix is deprecated; Function `plot_confusion_matrix` is deprecated in 1.0 and will be removed in 1.2. Use one of the class methods: ConfusionMatrixDisplay.from_predictions or ConfusionMatrixDisplay.from_estimator.\n",
            "  warnings.warn(msg, category=FutureWarning)\n"
          ]
        },
        {
          "output_type": "display_data",
          "data": {
            "image/png": "[encoded data removed]",
            "text/plain": [
              "<Figure size 432x288 with 2 Axes>"
            ]
          },
          "metadata": {
            "needs_background": "light"
          }
        }
      ]
    },
    {
      "cell_type": "code",
      "source": [
        "knn.get_params()"
      ],
      "metadata": {
        "id": "FFkSyjyQ9d30",
        "outputId": "277a4f46-1ac7-44d5-b001-cea286b86bce",
        "colab": {
          "base_uri": "https://localhost:8080/"
        }
      },
      "execution_count": 186,
      "outputs": [
        {
          "output_type": "execute_result",
          "data": {
            "text/plain": [
              "{'algorithm': 'auto',\n",
              " 'leaf_size': 30,\n",
              " 'metric': 'minkowski',\n",
              " 'metric_params': None,\n",
              " 'n_jobs': None,\n",
              " 'n_neighbors': 5,\n",
              " 'p': 2,\n",
              " 'weights': 'uniform'}"
            ]
          },
          "metadata": {},
          "execution_count": 186
        }
      ]
    },
    {
      "cell_type": "code",
      "metadata": {
        "colab": {
          "base_uri": "https://localhost:8080/"
        },
        "id": "S_Mn5ZePeNxD",
        "outputId": "6f9a6c03-fe68-454c-a868-62b68400ed33"
      },
      "source": [
        "cm = confusion_matrix(y_test, y_test_pred)\n",
        "precision = cm[1][1] / (cm[1][1]+cm[1][0])\n",
        "recall  = cm[1][1] / (cm[1][1]+cm[0][1])\n",
        "accuracy  = (cm[1][1]+cm[0][0]) / (cm[0][0]+cm[0][1]+cm[1][0]+cm[1][1])\n",
        "especifity  = cm[0][0] / (cm[0][0]+cm[0][1])\n",
        "print('precision:   % ',precision)\n",
        "print('recall:      % ',recall)\n",
        "print('accuracy:    % ',accuracy)\n",
        "print('especifity:  % ',especifity)"
      ],
      "execution_count": 88,
      "outputs": [
        {
          "output_type": "stream",
          "name": "stdout",
          "text": [
            "precision:   %  0.7941176470588235\n",
            "recall:      %  0.7788461538461539\n",
            "accuracy:    %  0.7843137254901961\n",
            "especifity:  %  0.7745098039215687\n"
          ]
        }
      ]
    },
    {
      "cell_type": "code",
      "metadata": {
        "colab": {
          "base_uri": "https://localhost:8080/"
        },
        "id": "Y87SmtBKeUVA",
        "outputId": "3c8e005a-cb27-43f9-e1c7-1bae80ded081"
      },
      "source": [
        "from sklearn.metrics import f1_score\n",
        "\n",
        "# Calculo del F1 score\n",
        "print(\"F1 Score:    % \", f1_score(y_test, y_test_pred))"
      ],
      "execution_count": 89,
      "outputs": [
        {
          "output_type": "stream",
          "name": "stdout",
          "text": [
            "F1 Score:    %  0.7864077669902914\n"
          ]
        }
      ]
    },
    {
      "cell_type": "markdown",
      "metadata": {
        "id": "13QMQr8ZeYAA"
      },
      "source": [
        "#Curva ROC"
      ]
    },
    {
      "cell_type": "code",
      "metadata": {
        "colab": {
          "base_uri": "https://localhost:8080/",
          "height": 0
        },
        "id": "rIVTdFuVeY-C",
        "outputId": "bf37e094-7b98-4ab0-da91-d6d9cfd89cc1"
      },
      "source": [
        "from sklearn.metrics import roc_curve, auc\n",
        "\n",
        "class_probabilities = knn.predict_proba(X_test)\n",
        "preds = class_probabilities[:, 1]\n",
        "\n",
        "fpr, tpr, threshold = roc_curve(y_test, y_test_pred)\n",
        "roc_auc = auc(fpr, tpr)\n",
        "\n",
        "# AUC\n",
        "print(f\"AUC for our classifier is: {roc_auc}\")\n",
        "\n",
        "# Gráfica de la Curva ROC\n",
        "plt.title('Receiver Operating Characteristic')\n",
        "plt.plot(fpr, tpr, 'b', label = 'AUC = %0.2f' % roc_auc)\n",
        "plt.legend(loc = 'lower right')\n",
        "plt.plot([0, 1], [0, 1],'r--')\n",
        "plt.xlim([0, 1])\n",
        "plt.ylim([0, 1])\n",
        "plt.ylabel('True Positive Rate')\n",
        "plt.xlabel('False Positive Rate')\n",
        "plt.show()"
      ],
      "execution_count": 211,
      "outputs": [
        {
          "output_type": "stream",
          "name": "stdout",
          "text": [
            "AUC for our classifier is: 0.784313725490196\n"
          ]
        },
        {
          "output_type": "display_data",
          "data": {
            "image/png": "[encoded data removed]",
            "text/plain": [
              "<Figure size 432x288 with 1 Axes>"
            ]
          },
          "metadata": {
            "needs_background": "light"
          }
        }
      ]
    },
    {
      "cell_type": "markdown",
      "source": [
        "#Leave One Out Cross-Validation - LOOCV"
      ],
      "metadata": {
        "id": "dmOtxkCpTmtQ"
      }
    },
    {
      "cell_type": "code",
      "source": [
        "from numpy import mean\n",
        "from numpy import std\n",
        "import pandas as pd\n",
        "from sklearn.model_selection import LeaveOneOut\n",
        "from sklearn.model_selection import KFold\n",
        "from sklearn.model_selection import cross_val_score"
      ],
      "metadata": {
        "id": "-URzrYXKUiNu"
      },
      "execution_count": 91,
      "outputs": []
    },
    {
      "cell_type": "code",
      "source": [
        "# Separacion en X e y\n",
        "X = df_feat.drop('result', axis=1) #Elimino de mi dataset la variable a predecir\n",
        "y = df_feat.result #Defino el Target\n",
        "\n",
        "print(X.shape, y.shape)"
      ],
      "metadata": {
        "colab": {
          "base_uri": "https://localhost:8080/"
        },
        "id": "Du1SdKYHTpgu",
        "outputId": "dff64eb6-ef8b-45da-efb2-232b4cb3ea6e"
      },
      "execution_count": 92,
      "outputs": [
        {
          "output_type": "stream",
          "name": "stdout",
          "text": [
            "(678, 13) (678,)\n"
          ]
        }
      ]
    },
    {
      "cell_type": "code",
      "source": [
        "pd.Series(y).value_counts()"
      ],
      "metadata": {
        "colab": {
          "base_uri": "https://localhost:8080/"
        },
        "id": "6d7cRRzqUQHH",
        "outputId": "39ae5476-c2eb-482d-84ae-ea44764dad78"
      },
      "execution_count": 93,
      "outputs": [
        {
          "output_type": "execute_result",
          "data": {
            "text/plain": [
              "1    339\n",
              "0    339\n",
              "Name: result, dtype: int64"
            ]
          },
          "metadata": {},
          "execution_count": 93
        }
      ]
    },
    {
      "cell_type": "code",
      "source": [
        "#Creamos el modelo \n",
        "model = KNeighborsClassifier(n_neighbors=5)\n",
        "\n",
        "#Creamos el objeto de cross val\n",
        "cv = LeaveOneOut()"
      ],
      "metadata": {
        "id": "L8gTmdcwUVAc"
      },
      "execution_count": 94,
      "outputs": []
    },
    {
      "cell_type": "code",
      "source": [
        "# Evaluacion del Modelo\n",
        "%%time\n",
        "scores = cross_val_score(model, X, y, scoring='accuracy', cv=cv, n_jobs=-1)"
      ],
      "metadata": {
        "colab": {
          "base_uri": "https://localhost:8080/"
        },
        "id": "-8v6PtqVUq8Q",
        "outputId": "7b2d26ab-f5b1-44cf-c557-6980f8cf9f52"
      },
      "execution_count": 95,
      "outputs": [
        {
          "output_type": "stream",
          "name": "stdout",
          "text": [
            "CPU times: user 1.02 s, sys: 45.7 ms, total: 1.06 s\n",
            "Wall time: 5.45 s\n"
          ]
        }
      ]
    },
    {
      "cell_type": "code",
      "source": [
        "scores"
      ],
      "metadata": {
        "colab": {
          "base_uri": "https://localhost:8080/"
        },
        "id": "emY-BmXsU0WV",
        "outputId": "35bdeca6-ef22-42b1-d8e5-93a66cece1a1"
      },
      "execution_count": 96,
      "outputs": [
        {
          "output_type": "execute_result",
          "data": {
            "text/plain": [
              "array([0., 0., 0., 1., 0., 0., 1., 1., 1., 1., 0., 1., 0., 0., 1., 1., 0.,\n",
              "       0., 0., 1., 1., 1., 1., 1., 1., 1., 1., 1., 1., 1., 1., 1., 0., 0.,\n",
              "       1., 1., 1., 1., 1., 1., 1., 1., 1., 1., 1., 1., 1., 1., 1., 1., 1.,\n",
              "       1., 1., 1., 1., 1., 1., 1., 1., 1., 1., 1., 1., 1., 0., 0., 0., 0.,\n",
              "       1., 1., 1., 1., 1., 1., 0., 0., 1., 1., 1., 1., 1., 1., 0., 0., 0.,\n",
              "       0., 1., 1., 0., 0., 1., 0., 1., 1., 1., 1., 1., 1., 1., 1., 0., 1.,\n",
              "       0., 0., 0., 0., 1., 1., 1., 1., 1., 1., 1., 1., 1., 1., 1., 0., 1.,\n",
              "       1., 1., 1., 1., 1., 1., 1., 0., 0., 1., 1., 1., 1., 1., 1., 1., 1.,\n",
              "       1., 1., 1., 1., 1., 1., 1., 1., 1., 1., 1., 0., 1., 1., 1., 1., 1.,\n",
              "       1., 0., 0., 0., 1., 1., 1., 1., 1., 1., 1., 1., 1., 0., 1., 1., 1.,\n",
              "       0., 0., 1., 1., 1., 1., 1., 1., 1., 1., 0., 0., 0., 0., 1., 1., 1.,\n",
              "       1., 1., 1., 1., 1., 1., 1., 1., 1., 1., 1., 1., 0., 1., 1., 1., 1.,\n",
              "       1., 1., 1., 1., 1., 1., 1., 1., 1., 0., 0., 0., 1., 1., 1., 1., 1.,\n",
              "       1., 1., 1., 1., 1., 1., 1., 1., 1., 1., 1., 0., 1., 0., 1., 1., 0.,\n",
              "       1., 1., 1., 1., 1., 1., 1., 1., 1., 1., 1., 0., 0., 0., 1., 1., 1.,\n",
              "       1., 1., 1., 0., 0., 1., 1., 1., 1., 1., 1., 1., 0., 0., 0., 1., 0.,\n",
              "       1., 1., 1., 1., 1., 1., 1., 1., 1., 1., 1., 1., 1., 1., 0., 0., 1.,\n",
              "       1., 0., 1., 1., 1., 1., 0., 1., 1., 1., 1., 1., 1., 1., 0., 0., 0.,\n",
              "       1., 1., 1., 1., 0., 0., 1., 1., 1., 1., 1., 1., 1., 1., 1., 1., 1.,\n",
              "       1., 0., 0., 0., 0., 1., 1., 1., 1., 1., 1., 1., 1., 1., 1., 1., 1.,\n",
              "       1., 1., 1., 1., 1., 0., 1., 1., 1., 1., 1., 1., 0., 0., 0., 1., 1.,\n",
              "       1., 0., 0., 1., 1., 1., 1., 1., 1., 1., 1., 1., 1., 1., 1., 1., 0.,\n",
              "       1., 1., 1., 1., 1., 1., 1., 1., 1., 1., 0., 0., 1., 1., 0., 0., 0.,\n",
              "       0., 1., 1., 1., 1., 1., 1., 1., 0., 1., 1., 1., 1., 0., 0., 1., 1.,\n",
              "       0., 0., 0., 0., 1., 1., 1., 1., 1., 1., 1., 1., 0., 1., 1., 1., 0.,\n",
              "       0., 1., 0., 1., 1., 0., 0., 1., 1., 1., 1., 1., 1., 0., 0., 1., 1.,\n",
              "       0., 0., 0., 0., 1., 0., 1., 0., 1., 1., 1., 1., 0., 1., 1., 1., 0.,\n",
              "       0., 1., 1., 0., 1., 0., 1., 1., 1., 1., 1., 1., 1., 0., 0., 1., 1.,\n",
              "       0., 0., 1., 1., 1., 1., 1., 1., 1., 1., 1., 1., 1., 1., 1., 1., 1.,\n",
              "       1., 0., 0., 0., 0., 0., 0., 1., 1., 1., 1., 1., 1., 1., 1., 1., 1.,\n",
              "       1., 1., 1., 1., 1., 1., 0., 0., 0., 0., 1., 1., 0., 1., 1., 1., 0.,\n",
              "       0., 1., 1., 1., 1., 1., 1., 1., 1., 1., 1., 1., 1., 1., 1., 1., 1.,\n",
              "       1., 1., 1., 1., 1., 1., 1., 1., 1., 1., 1., 1., 1., 1., 1., 1., 1.,\n",
              "       1., 1., 0., 1., 1., 1., 1., 0., 0., 1., 1., 1., 1., 1., 1., 1., 1.,\n",
              "       1., 1., 1., 1., 1., 1., 0., 0., 1., 1., 0., 0., 1., 1., 0., 0., 1.,\n",
              "       1., 0., 0., 1., 1., 1., 1., 1., 1., 1., 0., 1., 1., 1., 1., 1., 1.,\n",
              "       1., 1., 0., 1., 1., 1., 1., 1., 0., 0., 1., 1., 1., 1., 1., 0., 1.,\n",
              "       1., 1., 1., 0., 0., 0., 0., 1., 1., 1., 1., 0., 0., 0., 0., 0., 0.,\n",
              "       1., 1., 0., 1., 1., 1., 1., 1., 1., 1., 0., 0., 1., 1., 1., 1., 1.,\n",
              "       0., 1., 1., 1., 0., 1., 1., 0., 0., 0., 0., 1., 0., 1., 1.])"
            ]
          },
          "metadata": {},
          "execution_count": 96
        }
      ]
    },
    {
      "cell_type": "code",
      "source": [
        "print('Accuracy: %.3f (%.3f)' % (mean(scores), std(scores)))"
      ],
      "metadata": {
        "colab": {
          "base_uri": "https://localhost:8080/"
        },
        "id": "Ly3239cpU-S8",
        "outputId": "bf438982-7e26-4e43-a4bc-a2ea724911ba"
      },
      "execution_count": 97,
      "outputs": [
        {
          "output_type": "stream",
          "name": "stdout",
          "text": [
            "Accuracy: 0.755 (0.430)\n"
          ]
        }
      ]
    },
    {
      "cell_type": "markdown",
      "source": [
        "#K- FOLD CROSS VALIDATION"
      ],
      "metadata": {
        "id": "KQ0dKjsWVrtl"
      }
    },
    {
      "cell_type": "code",
      "source": [
        "kf = KFold(n_splits=10)\n",
        "scores = cross_val_score(model, X, y, scoring='accuracy', cv=kf)"
      ],
      "metadata": {
        "id": "Q62tVYW3Vs9Z"
      },
      "execution_count": 98,
      "outputs": []
    },
    {
      "cell_type": "code",
      "source": [
        "scores"
      ],
      "metadata": {
        "colab": {
          "base_uri": "https://localhost:8080/"
        },
        "id": "9sy7gxT7V04a",
        "outputId": "3f3ffebb-7750-436c-c932-a2c3d0f62a74"
      },
      "execution_count": 99,
      "outputs": [
        {
          "output_type": "execute_result",
          "data": {
            "text/plain": [
              "array([0.69117647, 0.75      , 0.77941176, 0.72058824, 0.77941176,\n",
              "       0.75      , 0.63235294, 0.79411765, 0.79104478, 0.68656716])"
            ]
          },
          "metadata": {},
          "execution_count": 99
        }
      ]
    },
    {
      "cell_type": "code",
      "source": [
        "print('Accuracy: %.3f (%.3f)' % (mean(scores), std(scores)))"
      ],
      "metadata": {
        "colab": {
          "base_uri": "https://localhost:8080/"
        },
        "id": "HligrDFXV4w_",
        "outputId": "8c061746-a4bf-4694-d338-c5e8859f67f4"
      },
      "execution_count": 100,
      "outputs": [
        {
          "output_type": "stream",
          "name": "stdout",
          "text": [
            "Accuracy: 0.737 (0.051)\n"
          ]
        }
      ]
    },
    {
      "cell_type": "markdown",
      "source": [
        "#StratifiedKFold"
      ],
      "metadata": {
        "id": "CP6LO3eMWCEG"
      }
    },
    {
      "cell_type": "code",
      "source": [
        "from sklearn.model_selection import StratifiedKFold\n",
        "skf = StratifiedKFold(n_splits=10, random_state=0, shuffle=True)"
      ],
      "metadata": {
        "id": "1IP5OarQWEIE"
      },
      "execution_count": 102,
      "outputs": []
    },
    {
      "cell_type": "code",
      "source": [
        "%%time\n",
        "scores = cross_val_score(model, X, y, scoring='accuracy', cv=skf, n_jobs=-1)"
      ],
      "metadata": {
        "colab": {
          "base_uri": "https://localhost:8080/"
        },
        "id": "_iCWCs4SWNV1",
        "outputId": "669688eb-d689-4a10-b8b6-ff5dc0a15019"
      },
      "execution_count": 103,
      "outputs": [
        {
          "output_type": "stream",
          "name": "stdout",
          "text": [
            "CPU times: user 42.1 ms, sys: 3.03 ms, total: 45.1 ms\n",
            "Wall time: 106 ms\n"
          ]
        }
      ]
    },
    {
      "cell_type": "code",
      "source": [
        "scores"
      ],
      "metadata": {
        "colab": {
          "base_uri": "https://localhost:8080/"
        },
        "id": "c6yhVBKtWQd9",
        "outputId": "372282d2-547d-4dce-d607-d4f7cdd42f21"
      },
      "execution_count": 104,
      "outputs": [
        {
          "output_type": "execute_result",
          "data": {
            "text/plain": [
              "array([0.76470588, 0.72058824, 0.73529412, 0.77941176, 0.75      ,\n",
              "       0.75      , 0.73529412, 0.72058824, 0.80597015, 0.79104478])"
            ]
          },
          "metadata": {},
          "execution_count": 104
        }
      ]
    },
    {
      "cell_type": "code",
      "source": [
        "print('Accuracy: %.3f (%.3f)' % (mean(scores), std(scores)))"
      ],
      "metadata": {
        "colab": {
          "base_uri": "https://localhost:8080/"
        },
        "id": "WpinwHnWWSzE",
        "outputId": "22312dd1-ffb9-46ed-88e2-b127c5149141"
      },
      "execution_count": 105,
      "outputs": [
        {
          "output_type": "stream",
          "name": "stdout",
          "text": [
            "Accuracy: 0.755 (0.028)\n"
          ]
        }
      ]
    },
    {
      "cell_type": "markdown",
      "source": [
        "#GridSearchCV"
      ],
      "metadata": {
        "id": "waBdYgwkXIsS"
      }
    },
    {
      "cell_type": "code",
      "source": [
        "#Importamos librerias y el Dataset\n",
        "from sklearn.model_selection import GridSearchCV\n",
        "from sklearn.metrics import confusion_matrix, accuracy_score\n",
        "from sklearn.metrics import classification_report"
      ],
      "metadata": {
        "id": "nygXKjjoXKL5"
      },
      "execution_count": 106,
      "outputs": []
    },
    {
      "cell_type": "code",
      "source": [
        "knn = KNeighborsClassifier()\n",
        "knn"
      ],
      "metadata": {
        "colab": {
          "base_uri": "https://localhost:8080/"
        },
        "id": "vQeyzHLEYdM8",
        "outputId": "9e5359ce-4d49-424c-a7d0-2bd122827e34"
      },
      "execution_count": 219,
      "outputs": [
        {
          "output_type": "execute_result",
          "data": {
            "text/plain": [
              "KNeighborsClassifier()"
            ]
          },
          "metadata": {},
          "execution_count": 219
        }
      ]
    },
    {
      "cell_type": "code",
      "source": [
        "#Definicion de Hyperparámetros\n",
        "param_grid = {'n_neighbors':np.arange(5, 15),\n",
        "              'weights': ['uniform', 'distance'], \n",
        "              'leaf_size':[1,2,3,5,10,15,20,25,30],\n",
        "              'algorithm':['auto', 'ball_tree','kd_tree', 'brute']}\n",
        "\n",
        "#Utilizamos la grilla definida anteriormente...\n",
        "modelGridSearch = GridSearchCV(knn, param_grid=param_grid, cv=5,scoring='roc_auc',verbose=20)"
      ],
      "metadata": {
        "id": "44P7DPIPYYTr"
      },
      "execution_count": 209,
      "outputs": []
    },
    {
      "cell_type": "code",
      "source": [
        "modelGridSearch.fit(X_train, y_train)"
      ],
      "metadata": {
        "id": "J80QhHSrb1on"
      },
      "execution_count": null,
      "outputs": []
    },
    {
      "cell_type": "code",
      "source": [
        "print(\"Mejores parametros: \"+str(modelGridSearch.best_params_))\n",
        "print(\"Mejor Score: \"+str(modelGridSearch.best_score_))"
      ],
      "metadata": {
        "colab": {
          "base_uri": "https://localhost:8080/"
        },
        "id": "zRZCAuuVcEy2",
        "outputId": "6232f924-aba7-4520-8276-cf492d4eb9c5"
      },
      "execution_count": 213,
      "outputs": [
        {
          "output_type": "stream",
          "name": "stdout",
          "text": [
            "Mejores parametros: {'algorithm': 'auto', 'leaf_size': 1, 'n_neighbors': 13, 'weights': 'uniform'}\n",
            "Mejor Score: 0.8454777802927417\n"
          ]
        }
      ]
    },
    {
      "cell_type": "code",
      "source": [
        "prediction = modelGridSearch.predict(X_test)\n",
        "prediction_proba = modelGridSearch.predict_proba(X_test)[:,1]"
      ],
      "metadata": {
        "id": "gBfYumAaw8UF"
      },
      "execution_count": 214,
      "outputs": []
    },
    {
      "cell_type": "code",
      "source": [
        "print('Accuracy:', accuracy_score(y_test, prediction))\n",
        "from sklearn.metrics import roc_auc_score\n",
        "print('auc:',roc_auc_score(y_test,prediction_proba))"
      ],
      "metadata": {
        "id": "ZyoFSpIgxCXQ",
        "outputId": "d2e38179-9439-4123-b5d6-e40269bcdf3c",
        "colab": {
          "base_uri": "https://localhost:8080/"
        }
      },
      "execution_count": 215,
      "outputs": [
        {
          "output_type": "stream",
          "name": "stdout",
          "text": [
            "Accuracy: 0.7352941176470589\n",
            "auc: 0.8256439830834295\n"
          ]
        }
      ]
    },
    {
      "cell_type": "code",
      "source": [
        "plot_confusion_matrix(modelGridSearch, X_test, y_test)\n",
        "plt.show()"
      ],
      "metadata": {
        "id": "fF69UADqxuaQ",
        "outputId": "329617d6-72be-4ca3-ceb4-de200bf55bb6",
        "colab": {
          "base_uri": "https://localhost:8080/",
          "height": 334
        }
      },
      "execution_count": 216,
      "outputs": [
        {
          "output_type": "stream",
          "name": "stderr",
          "text": [
            "/usr/local/lib/python3.7/dist-packages/sklearn/utils/deprecation.py:87: FutureWarning: Function plot_confusion_matrix is deprecated; Function `plot_confusion_matrix` is deprecated in 1.0 and will be removed in 1.2. Use one of the class methods: ConfusionMatrixDisplay.from_predictions or ConfusionMatrixDisplay.from_estimator.\n",
            "  warnings.warn(msg, category=FutureWarning)\n"
          ]
        },
        {
          "output_type": "display_data",
          "data": {
            "image/png": "[encoded data removed]",
            "text/plain": [
              "<Figure size 432x288 with 2 Axes>"
            ]
          },
          "metadata": {
            "needs_background": "light"
          }
        }
      ]
    },
    {
      "cell_type": "code",
      "source": [
        "fpr, tpr, threshold = roc_curve(y_test, prediction)\n",
        "roc_auc = auc(fpr, tpr)\n",
        "\n",
        "# AUC\n",
        "print(f\"AUC for our classifier is: {roc_auc}\")\n",
        "\n",
        "# Gráfica de la Curva ROC\n",
        "plt.title('Receiver Operating Characteristic')\n",
        "plt.plot(fpr, tpr, 'b', label = 'AUC = %0.2f' % roc_auc)\n",
        "plt.legend(loc = 'lower right')\n",
        "plt.plot([0, 1], [0, 1],'r--')\n",
        "plt.xlim([0, 1])\n",
        "plt.ylim([0, 1])\n",
        "plt.ylabel('True Positive Rate')\n",
        "plt.xlabel('False Positive Rate')\n",
        "plt.show()"
      ],
      "metadata": {
        "id": "sS2NbScB_F9j",
        "outputId": "df8ef774-7583-420c-d87d-214d0baae925",
        "colab": {
          "base_uri": "https://localhost:8080/",
          "height": 312
        }
      },
      "execution_count": 217,
      "outputs": [
        {
          "output_type": "stream",
          "name": "stdout",
          "text": [
            "AUC for our classifier is: 0.7352941176470589\n"
          ]
        },
        {
          "output_type": "display_data",
          "data": {
            "image/png": "[encoded data removed]",
            "text/plain": [
              "<Figure size 432x288 with 1 Axes>"
            ]
          },
          "metadata": {
            "needs_background": "light"
          }
        }
      ]
    },
    {
      "cell_type": "markdown",
      "source": [
        "#RandomizedSearchCV"
      ],
      "metadata": {
        "id": "RWnfPN7Z_z3G"
      }
    },
    {
      "cell_type": "code",
      "source": [
        "from sklearn.model_selection import RandomizedSearchCV\n",
        "import scipy as sp"
      ],
      "metadata": {
        "id": "-FNxz1C2_228"
      },
      "execution_count": 221,
      "outputs": []
    },
    {
      "cell_type": "code",
      "source": [
        "param_dist = {'n_neighbors':sp.stats.randint(1, 15),\n",
        "              'weights': ['uniform', 'distance'], \n",
        "              'leaf_size':sp.stats.randint(1, 40),\n",
        "              'algorithm':['auto', 'ball_tree','kd_tree', 'brute']}\n",
        "\n",
        "modelRandom = RandomizedSearchCV(knn, param_dist,n_iter=100, random_state=0, cv=5,scoring='roc_auc',verbose=20)"
      ],
      "metadata": {
        "id": "_4Iv_TQe_9X5"
      },
      "execution_count": 222,
      "outputs": []
    },
    {
      "cell_type": "code",
      "source": [
        "modelRandom.fit(X_train, y_train)"
      ],
      "metadata": {
        "id": "87O_Rw0MAcnV"
      },
      "execution_count": null,
      "outputs": []
    },
    {
      "cell_type": "code",
      "source": [
        "print(\"Mejores parametros: \"+str(modelRandom.best_params_))\n",
        "print(\"Mejor Score: \"+str(modelRandom.best_score_))"
      ],
      "metadata": {
        "id": "E7ilTsfgAqRy",
        "outputId": "1f0f790e-865e-4f91-e5e4-8f053c483aa2",
        "colab": {
          "base_uri": "https://localhost:8080/"
        }
      },
      "execution_count": 224,
      "outputs": [
        {
          "output_type": "stream",
          "name": "stdout",
          "text": [
            "Mejores parametros: {'algorithm': 'auto', 'leaf_size': 25, 'n_neighbors': 13, 'weights': 'uniform'}\n",
            "Mejor Score: 0.8454777802927417\n"
          ]
        }
      ]
    },
    {
      "cell_type": "code",
      "source": [
        "predictionRandom = modelRandom.predict(X_test)\n",
        "predictionRandom_proba = modelRandom.predict_proba(X_test)[:,1]\n",
        "print('Accuracy:', accuracy_score(y_test, predictionRandom))\n",
        "print('auc:',roc_auc_score(y_test,predictionRandom_proba))"
      ],
      "metadata": {
        "id": "8p6JAJutAxYu",
        "outputId": "85d87ea8-69fd-4c55-b047-ce266ce6bb19",
        "colab": {
          "base_uri": "https://localhost:8080/"
        }
      },
      "execution_count": 225,
      "outputs": [
        {
          "output_type": "stream",
          "name": "stdout",
          "text": [
            "Accuracy: 0.7352941176470589\n",
            "auc: 0.8256439830834295\n"
          ]
        }
      ]
    },
    {
      "cell_type": "code",
      "source": [
        "plot_confusion_matrix(modelRandom, X_test, y_test)\n",
        "plt.show()"
      ],
      "metadata": {
        "id": "IWp-gcdjBCiq",
        "outputId": "10b4e0ca-1bad-4644-fa75-d53821d37d9f",
        "colab": {
          "base_uri": "https://localhost:8080/",
          "height": 334
        }
      },
      "execution_count": 226,
      "outputs": [
        {
          "output_type": "stream",
          "name": "stderr",
          "text": [
            "/usr/local/lib/python3.7/dist-packages/sklearn/utils/deprecation.py:87: FutureWarning: Function plot_confusion_matrix is deprecated; Function `plot_confusion_matrix` is deprecated in 1.0 and will be removed in 1.2. Use one of the class methods: ConfusionMatrixDisplay.from_predictions or ConfusionMatrixDisplay.from_estimator.\n",
            "  warnings.warn(msg, category=FutureWarning)\n"
          ]
        },
        {
          "output_type": "display_data",
          "data": {
            "image/png": "[encoded data removed]",
            "text/plain": [
              "<Figure size 432x288 with 2 Axes>"
            ]
          },
          "metadata": {
            "needs_background": "light"
          }
        }
      ]
    },
    {
      "cell_type": "code",
      "source": [
        "fpr, tpr, threshold = roc_curve(y_test, predictionRandom)\n",
        "roc_auc = auc(fpr, tpr)\n",
        "\n",
        "# AUC\n",
        "print(f\"AUC for our classifier is: {roc_auc}\")\n",
        "\n",
        "# Gráfica de la Curva ROC\n",
        "plt.title('Receiver Operating Characteristic')\n",
        "plt.plot(fpr, tpr, 'b', label = 'AUC = %0.2f' % roc_auc)\n",
        "plt.legend(loc = 'lower right')\n",
        "plt.plot([0, 1], [0, 1],'r--')\n",
        "plt.xlim([0, 1])\n",
        "plt.ylim([0, 1])\n",
        "plt.ylabel('True Positive Rate')\n",
        "plt.xlabel('False Positive Rate')\n",
        "plt.show()"
      ],
      "metadata": {
        "id": "u6zPG8MuBL57",
        "outputId": "2ef068eb-dedc-4ee0-e572-2bd3ba422573",
        "colab": {
          "base_uri": "https://localhost:8080/",
          "height": 312
        }
      },
      "execution_count": 227,
      "outputs": [
        {
          "output_type": "stream",
          "name": "stdout",
          "text": [
            "AUC for our classifier is: 0.7352941176470589\n"
          ]
        },
        {
          "output_type": "display_data",
          "data": {
            "image/png": "[encoded data removed]",
            "text/plain": [
              "<Figure size 432x288 with 1 Axes>"
            ]
          },
          "metadata": {
            "needs_background": "light"
          }
        }
      ]
    },
    {
      "cell_type": "markdown",
      "source": [
        "#DataSet con datos de más de 1 liga"
      ],
      "metadata": {
        "id": "BwYgbrV8BwU2"
      }
    },
    {
      "cell_type": "code",
      "source": [
        ""
      ],
      "metadata": {
        "id": "ANrLunH-B4zW"
      },
      "execution_count": null,
      "outputs": []
    }
  ]
}