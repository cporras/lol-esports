{
  "nbformat": 4,
  "nbformat_minor": 0,
  "metadata": {
    "kernelspec": {
      "display_name": "Python 3",
      "language": "python",
      "name": "python3"
    },
    "language_info": {
      "codemirror_mode": {
        "name": "ipython",
        "version": 3
      },
      "file_extension": ".py",
      "mimetype": "text/x-python",
      "name": "python",
      "nbconvert_exporter": "python",
      "pygments_lexer": "ipython3",
      "version": "3.8.5"
    },
    "varInspector": {
      "cols": {
        "lenName": 16,
        "lenType": 16,
        "lenVar": 40
      },
      "kernels_config": {
        "python": {
          "delete_cmd_postfix": "",
          "delete_cmd_prefix": "del ",
          "library": "var_list.py",
          "varRefreshCmd": "print(var_dic_list())"
        },
        "r": {
          "delete_cmd_postfix": ") ",
          "delete_cmd_prefix": "rm(",
          "library": "var_list.r",
          "varRefreshCmd": "cat(var_dic_list()) "
        }
      },
      "types_to_exclude": [
        "module",
        "function",
        "builtin_function_or_method",
        "instance",
        "_Feature"
      ],
      "window_display": false
    },
    "colab": {
      "name": "Desafío - Algoritmos de Clasificación 2 - Random Forest.ipynb",
      "provenance": [],
      "collapsed_sections": []
    }
  },
  "cells": [
    {
      "cell_type": "markdown",
      "metadata": {
        "id": "HZU3SPOziAyY"
      },
      "source": [
        "**Algoritmos de Clasificación 2 - Random Forest - LoL e-sports**"
      ]
    },
    {
      "cell_type": "code",
      "metadata": {
        "id": "v_n3S0LaZjNz"
      },
      "source": [
        "import pandas as pd\n",
        "import numpy as np\n",
        "import matplotlib.pyplot as plt\n",
        "from sklearn.model_selection import train_test_split\n",
        "from sklearn.ensemble import RandomForestClassifier\n",
        "from sklearn.tree import DecisionTreeClassifier"
      ],
      "execution_count": 1,
      "outputs": []
    },
    {
      "cell_type": "code",
      "metadata": {
        "id": "qwRz_BVaEalv"
      },
      "source": [
        "url_teams = 'https://raw.githubusercontent.com/cporras/lol-esports/main/Data/df_teams.csv'\n",
        "df = pd.read_csv(url_teams)"
      ],
      "execution_count": 2,
      "outputs": []
    },
    {
      "cell_type": "code",
      "metadata": {
        "id": "o_9SQ6aFGazg",
        "colab": {
          "base_uri": "https://localhost:8080/",
          "height": 206
        },
        "outputId": "d104c63e-c019-4dc5-85b8-855ab965ca83"
      },
      "source": [
        "#El arbol de decisión lo implementaremos usando las estadisticas obtenidas al minuto 15 de una partida,\n",
        "#de esta manera entrenaremos un modelo con el objetivo de predecir el resultado de un juego al minuto 15\n",
        "\n",
        "#Los datos que entran son resultado, primer asesinato, primer dragon, primer heraldo, primera torre, y oro, experiencia, cs y asesinatos al minuto 15\n",
        "features = ['result','firstblood','firstdragon','firstherald','firsttower','goldat15','xpat15','csat15','golddiffat15','xpdiffat15','csdiffat15','killsat15','assistsat15','deathsat15']\n",
        "df_feat =  df[features]\n",
        "df_feat.head()"
      ],
      "execution_count": 3,
      "outputs": [
        {
          "output_type": "execute_result",
          "data": {
            "text/html": [
              "<div>\n",
              "<style scoped>\n",
              "    .dataframe tbody tr th:only-of-type {\n",
              "        vertical-align: middle;\n",
              "    }\n",
              "\n",
              "    .dataframe tbody tr th {\n",
              "        vertical-align: top;\n",
              "    }\n",
              "\n",
              "    .dataframe thead th {\n",
              "        text-align: right;\n",
              "    }\n",
              "</style>\n",
              "<table border=\"1\" class=\"dataframe\">\n",
              "  <thead>\n",
              "    <tr style=\"text-align: right;\">\n",
              "      <th></th>\n",
              "      <th>result</th>\n",
              "      <th>firstblood</th>\n",
              "      <th>firstdragon</th>\n",
              "      <th>firstherald</th>\n",
              "      <th>firsttower</th>\n",
              "      <th>goldat15</th>\n",
              "      <th>xpat15</th>\n",
              "      <th>csat15</th>\n",
              "      <th>golddiffat15</th>\n",
              "      <th>xpdiffat15</th>\n",
              "      <th>csdiffat15</th>\n",
              "      <th>killsat15</th>\n",
              "      <th>assistsat15</th>\n",
              "      <th>deathsat15</th>\n",
              "    </tr>\n",
              "  </thead>\n",
              "  <tbody>\n",
              "    <tr>\n",
              "      <th>0</th>\n",
              "      <td>0</td>\n",
              "      <td>1.0</td>\n",
              "      <td>1.0</td>\n",
              "      <td>1.0</td>\n",
              "      <td>1.0</td>\n",
              "      <td>24815.0</td>\n",
              "      <td>31121.0</td>\n",
              "      <td>608.0</td>\n",
              "      <td>951.0</td>\n",
              "      <td>-107.0</td>\n",
              "      <td>18.0</td>\n",
              "      <td>1.0</td>\n",
              "      <td>1.0</td>\n",
              "      <td>0.0</td>\n",
              "    </tr>\n",
              "    <tr>\n",
              "      <th>1</th>\n",
              "      <td>1</td>\n",
              "      <td>0.0</td>\n",
              "      <td>0.0</td>\n",
              "      <td>0.0</td>\n",
              "      <td>0.0</td>\n",
              "      <td>23864.0</td>\n",
              "      <td>31228.0</td>\n",
              "      <td>590.0</td>\n",
              "      <td>-951.0</td>\n",
              "      <td>107.0</td>\n",
              "      <td>-18.0</td>\n",
              "      <td>0.0</td>\n",
              "      <td>0.0</td>\n",
              "      <td>1.0</td>\n",
              "    </tr>\n",
              "    <tr>\n",
              "      <th>2</th>\n",
              "      <td>0</td>\n",
              "      <td>0.0</td>\n",
              "      <td>0.0</td>\n",
              "      <td>1.0</td>\n",
              "      <td>1.0</td>\n",
              "      <td>27355.0</td>\n",
              "      <td>32158.0</td>\n",
              "      <td>560.0</td>\n",
              "      <td>2145.0</td>\n",
              "      <td>-420.0</td>\n",
              "      <td>44.0</td>\n",
              "      <td>5.0</td>\n",
              "      <td>6.0</td>\n",
              "      <td>6.0</td>\n",
              "    </tr>\n",
              "    <tr>\n",
              "      <th>3</th>\n",
              "      <td>1</td>\n",
              "      <td>1.0</td>\n",
              "      <td>1.0</td>\n",
              "      <td>0.0</td>\n",
              "      <td>0.0</td>\n",
              "      <td>25210.0</td>\n",
              "      <td>32578.0</td>\n",
              "      <td>516.0</td>\n",
              "      <td>-2145.0</td>\n",
              "      <td>420.0</td>\n",
              "      <td>-44.0</td>\n",
              "      <td>6.0</td>\n",
              "      <td>9.0</td>\n",
              "      <td>5.0</td>\n",
              "    </tr>\n",
              "    <tr>\n",
              "      <th>4</th>\n",
              "      <td>0</td>\n",
              "      <td>1.0</td>\n",
              "      <td>1.0</td>\n",
              "      <td>1.0</td>\n",
              "      <td>0.0</td>\n",
              "      <td>24131.0</td>\n",
              "      <td>29284.0</td>\n",
              "      <td>527.0</td>\n",
              "      <td>-457.0</td>\n",
              "      <td>-1218.0</td>\n",
              "      <td>-16.0</td>\n",
              "      <td>2.0</td>\n",
              "      <td>3.0</td>\n",
              "      <td>3.0</td>\n",
              "    </tr>\n",
              "  </tbody>\n",
              "</table>\n",
              "</div>"
            ],
            "text/plain": [
              "   result  firstblood  firstdragon  ...  killsat15  assistsat15  deathsat15\n",
              "0       0         1.0          1.0  ...        1.0          1.0         0.0\n",
              "1       1         0.0          0.0  ...        0.0          0.0         1.0\n",
              "2       0         0.0          0.0  ...        5.0          6.0         6.0\n",
              "3       1         1.0          1.0  ...        6.0          9.0         5.0\n",
              "4       0         1.0          1.0  ...        2.0          3.0         3.0\n",
              "\n",
              "[5 rows x 14 columns]"
            ]
          },
          "metadata": {},
          "execution_count": 3
        }
      ]
    },
    {
      "cell_type": "code",
      "metadata": {
        "id": "ABOakwWwhsVg",
        "colab": {
          "base_uri": "https://localhost:8080/"
        },
        "outputId": "8d831c56-d692-45b3-e106-fe1dbf49b6cb"
      },
      "source": [
        "df_feat.shape"
      ],
      "execution_count": 4,
      "outputs": [
        {
          "output_type": "execute_result",
          "data": {
            "text/plain": [
              "(682, 14)"
            ]
          },
          "metadata": {},
          "execution_count": 4
        }
      ]
    },
    {
      "cell_type": "code",
      "metadata": {
        "id": "mLjz6HRghxmp",
        "colab": {
          "base_uri": "https://localhost:8080/"
        },
        "outputId": "01b86252-83dd-432b-b598-1e4f03a7bb46"
      },
      "source": [
        "df_feat.dtypes"
      ],
      "execution_count": 5,
      "outputs": [
        {
          "output_type": "execute_result",
          "data": {
            "text/plain": [
              "result            int64\n",
              "firstblood      float64\n",
              "firstdragon     float64\n",
              "firstherald     float64\n",
              "firsttower      float64\n",
              "goldat15        float64\n",
              "xpat15          float64\n",
              "csat15          float64\n",
              "golddiffat15    float64\n",
              "xpdiffat15      float64\n",
              "csdiffat15      float64\n",
              "killsat15       float64\n",
              "assistsat15     float64\n",
              "deathsat15      float64\n",
              "dtype: object"
            ]
          },
          "metadata": {},
          "execution_count": 5
        }
      ]
    },
    {
      "cell_type": "code",
      "metadata": {
        "id": "r-RoGXs9juJX"
      },
      "source": [
        "df_feat.dropna(axis=0, how='any', thresh=None, subset=None, inplace=True)"
      ],
      "execution_count": null,
      "outputs": []
    },
    {
      "cell_type": "code",
      "metadata": {
        "id": "8Tpa2F-ViECH"
      },
      "source": [
        "#Separamos los datos de entrada de la salida\n",
        "X = df_feat.drop('result', axis=1) #Elimino de mi dataset la variable a predecir\n",
        "y = df_feat.result #Defino el Target"
      ],
      "execution_count": 7,
      "outputs": []
    },
    {
      "cell_type": "code",
      "metadata": {
        "id": "4t5iiv-mh75e"
      },
      "source": [
        "#Separación del dataset, 30% para test y 70% para train\n",
        "X_train, X_test, y_train, y_test = train_test_split(X, y, test_size=0.30, random_state=42) "
      ],
      "execution_count": 8,
      "outputs": []
    },
    {
      "cell_type": "code",
      "metadata": {
        "id": "JRciqDErigdJ",
        "outputId": "5f144677-f3ac-437a-be87-1806e8c213b1",
        "colab": {
          "base_uri": "https://localhost:8080/"
        }
      },
      "source": [
        "model = RandomForestClassifier(random_state=42, n_estimators=100,\n",
        "                               class_weight=\"balanced\",max_depth=8)\n",
        "model.fit(X_train, y_train)"
      ],
      "execution_count": 41,
      "outputs": [
        {
          "output_type": "execute_result",
          "data": {
            "text/plain": [
              "RandomForestClassifier(bootstrap=True, ccp_alpha=0.0, class_weight='balanced',\n",
              "                       criterion='gini', max_depth=8, max_features='auto',\n",
              "                       max_leaf_nodes=None, max_samples=None,\n",
              "                       min_impurity_decrease=0.0, min_impurity_split=None,\n",
              "                       min_samples_leaf=1, min_samples_split=2,\n",
              "                       min_weight_fraction_leaf=0.0, n_estimators=100,\n",
              "                       n_jobs=None, oob_score=False, random_state=42, verbose=0,\n",
              "                       warm_start=False)"
            ]
          },
          "metadata": {},
          "execution_count": 41
        }
      ]
    },
    {
      "cell_type": "code",
      "metadata": {
        "id": "eZ8vVBHvkkSN"
      },
      "source": [
        "y_train_pred = model.predict(X_train) #Prediccion en Train\n",
        "y_test_pred = model.predict(X_test) #Prediccion en Test"
      ],
      "execution_count": 42,
      "outputs": []
    },
    {
      "cell_type": "code",
      "metadata": {
        "id": "DDroG-QWknet",
        "colab": {
          "base_uri": "https://localhost:8080/"
        },
        "outputId": "b96f56c3-e8db-4c98-ce91-be34e6d4bb62"
      },
      "source": [
        "from sklearn.metrics import accuracy_score\n",
        "\n",
        "#Calculo el accuracy en Train\n",
        "train_accuracy = accuracy_score(y_train, y_train_pred)\n",
        "\n",
        "#Calculo el accuracy en Test\n",
        "test_accuracy = accuracy_score(y_test, y_test_pred)\n",
        "\n",
        "print('% de aciertos sobre el set de entrenamiento:', train_accuracy)\n",
        "print('% de aciertos sobre el set de evaluación:',test_accuracy)\n",
        "#Para este dataset el accuracy del random forest y el arbol de decisión es similar"
      ],
      "execution_count": 43,
      "outputs": [
        {
          "output_type": "stream",
          "name": "stdout",
          "text": [
            "% de aciertos sobre el set de entrenamiento: 0.9810126582278481\n",
            "% de aciertos sobre el set de evaluación: 0.75\n"
          ]
        }
      ]
    },
    {
      "cell_type": "code",
      "metadata": {
        "id": "dBCdOoqMlXjk",
        "colab": {
          "base_uri": "https://localhost:8080/",
          "height": 281
        },
        "outputId": "c4be85d1-8c17-4fd4-e21c-19342fde64b6"
      },
      "source": [
        "importances = model.feature_importances_\n",
        "imp = pd.DataFrame(importances,index=X.columns,columns=['importancia']).sort_values(by='importancia')\n",
        "imp.plot(kind='barh')\n",
        "plt.title('Importancia de cada Feature')\n",
        "plt.show()"
      ],
      "execution_count": 44,
      "outputs": [
        {
          "output_type": "display_data",
          "data": {
            "image/png": "[encoded data removed]",
            "text/plain": [
              "<Figure size 432x288 with 1 Axes>"
            ]
          },
          "metadata": {
            "needs_background": "light"
          }
        }
      ]
    }
  ]
}