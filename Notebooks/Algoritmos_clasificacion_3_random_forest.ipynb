{
  "nbformat": 4,
  "nbformat_minor": 0,
  "metadata": {
    "kernelspec": {
      "display_name": "Python 3",
      "language": "python",
      "name": "python3"
    },
    "language_info": {
      "codemirror_mode": {
        "name": "ipython",
        "version": 3
      },
      "file_extension": ".py",
      "mimetype": "text/x-python",
      "name": "python",
      "nbconvert_exporter": "python",
      "pygments_lexer": "ipython3",
      "version": "3.8.5"
    },
    "varInspector": {
      "cols": {
        "lenName": 16,
        "lenType": 16,
        "lenVar": 40
      },
      "kernels_config": {
        "python": {
          "delete_cmd_postfix": "",
          "delete_cmd_prefix": "del ",
          "library": "var_list.py",
          "varRefreshCmd": "print(var_dic_list())"
        },
        "r": {
          "delete_cmd_postfix": ") ",
          "delete_cmd_prefix": "rm(",
          "library": "var_list.r",
          "varRefreshCmd": "cat(var_dic_list()) "
        }
      },
      "types_to_exclude": [
        "module",
        "function",
        "builtin_function_or_method",
        "instance",
        "_Feature"
      ],
      "window_display": false
    },
    "colab": {
      "name": "Desafío - Algoritmos de Clasificación 2 - Random Forest.ipynb",
      "provenance": [],
      "collapsed_sections": []
    }
  },
  "cells": [
    {
      "cell_type": "markdown",
      "metadata": {
        "id": "HZU3SPOziAyY"
      },
      "source": [
        "**Algoritmos de Clasificación 2 - Random Forest - LoL e-sports**"
      ]
    },
    {
      "cell_type": "code",
      "metadata": {
        "id": "v_n3S0LaZjNz"
      },
      "source": [
        "import pandas as pd\n",
        "import numpy as np\n",
        "import matplotlib.pyplot as plt\n",
        "from sklearn.model_selection import train_test_split\n",
        "from sklearn.ensemble import RandomForestClassifier\n",
        "from sklearn.tree import DecisionTreeClassifier"
      ],
      "execution_count": 2,
      "outputs": []
    },
    {
      "cell_type": "code",
      "metadata": {
        "id": "qwRz_BVaEalv"
      },
      "source": [
        "url_teams = 'https://raw.githubusercontent.com/cporras/lol-esports/main/Data/df_teams.csv'\n",
        "df = pd.read_csv(url_teams)"
      ],
      "execution_count": 3,
      "outputs": []
    },
    {
      "cell_type": "code",
      "metadata": {
        "id": "o_9SQ6aFGazg",
        "colab": {
          "base_uri": "https://localhost:8080/",
          "height": 206
        },
        "outputId": "8f527962-e4f8-4757-e78f-85d6d21d19d6"
      },
      "source": [
        "#El arbol de decisión lo implementaremos usando las estadisticas obtenidas al minuto 15 de una partida,\n",
        "#de esta manera entrenaremos un modelo con el objetivo de predecir el resultado de un juego al minuto 15\n",
        "\n",
        "#Los datos que entran son resultado, primer asesinato, primer dragon, primer heraldo, primera torre, y oro, experiencia, cs y asesinatos al minuto 15\n",
        "features = ['result','firstblood','firstdragon','firstherald','firsttower','goldat15','xpat15','csat15','golddiffat15','xpdiffat15','csdiffat15','killsat15','assistsat15','deathsat15']\n",
        "df_feat =  df[features]\n",
        "df_feat.head()"
      ],
      "execution_count": 4,
      "outputs": [
        {
          "output_type": "execute_result",
          "data": {
            "text/html": [
              "<div>\n",
              "<style scoped>\n",
              "    .dataframe tbody tr th:only-of-type {\n",
              "        vertical-align: middle;\n",
              "    }\n",
              "\n",
              "    .dataframe tbody tr th {\n",
              "        vertical-align: top;\n",
              "    }\n",
              "\n",
              "    .dataframe thead th {\n",
              "        text-align: right;\n",
              "    }\n",
              "</style>\n",
              "<table border=\"1\" class=\"dataframe\">\n",
              "  <thead>\n",
              "    <tr style=\"text-align: right;\">\n",
              "      <th></th>\n",
              "      <th>result</th>\n",
              "      <th>firstblood</th>\n",
              "      <th>firstdragon</th>\n",
              "      <th>firstherald</th>\n",
              "      <th>firsttower</th>\n",
              "      <th>goldat15</th>\n",
              "      <th>xpat15</th>\n",
              "      <th>csat15</th>\n",
              "      <th>golddiffat15</th>\n",
              "      <th>xpdiffat15</th>\n",
              "      <th>csdiffat15</th>\n",
              "      <th>killsat15</th>\n",
              "      <th>assistsat15</th>\n",
              "      <th>deathsat15</th>\n",
              "    </tr>\n",
              "  </thead>\n",
              "  <tbody>\n",
              "    <tr>\n",
              "      <th>0</th>\n",
              "      <td>0</td>\n",
              "      <td>1.0</td>\n",
              "      <td>1.0</td>\n",
              "      <td>1.0</td>\n",
              "      <td>1.0</td>\n",
              "      <td>24815.0</td>\n",
              "      <td>31121.0</td>\n",
              "      <td>608.0</td>\n",
              "      <td>951.0</td>\n",
              "      <td>-107.0</td>\n",
              "      <td>18.0</td>\n",
              "      <td>1.0</td>\n",
              "      <td>1.0</td>\n",
              "      <td>0.0</td>\n",
              "    </tr>\n",
              "    <tr>\n",
              "      <th>1</th>\n",
              "      <td>1</td>\n",
              "      <td>0.0</td>\n",
              "      <td>0.0</td>\n",
              "      <td>0.0</td>\n",
              "      <td>0.0</td>\n",
              "      <td>23864.0</td>\n",
              "      <td>31228.0</td>\n",
              "      <td>590.0</td>\n",
              "      <td>-951.0</td>\n",
              "      <td>107.0</td>\n",
              "      <td>-18.0</td>\n",
              "      <td>0.0</td>\n",
              "      <td>0.0</td>\n",
              "      <td>1.0</td>\n",
              "    </tr>\n",
              "    <tr>\n",
              "      <th>2</th>\n",
              "      <td>0</td>\n",
              "      <td>0.0</td>\n",
              "      <td>0.0</td>\n",
              "      <td>1.0</td>\n",
              "      <td>1.0</td>\n",
              "      <td>27355.0</td>\n",
              "      <td>32158.0</td>\n",
              "      <td>560.0</td>\n",
              "      <td>2145.0</td>\n",
              "      <td>-420.0</td>\n",
              "      <td>44.0</td>\n",
              "      <td>5.0</td>\n",
              "      <td>6.0</td>\n",
              "      <td>6.0</td>\n",
              "    </tr>\n",
              "    <tr>\n",
              "      <th>3</th>\n",
              "      <td>1</td>\n",
              "      <td>1.0</td>\n",
              "      <td>1.0</td>\n",
              "      <td>0.0</td>\n",
              "      <td>0.0</td>\n",
              "      <td>25210.0</td>\n",
              "      <td>32578.0</td>\n",
              "      <td>516.0</td>\n",
              "      <td>-2145.0</td>\n",
              "      <td>420.0</td>\n",
              "      <td>-44.0</td>\n",
              "      <td>6.0</td>\n",
              "      <td>9.0</td>\n",
              "      <td>5.0</td>\n",
              "    </tr>\n",
              "    <tr>\n",
              "      <th>4</th>\n",
              "      <td>0</td>\n",
              "      <td>1.0</td>\n",
              "      <td>1.0</td>\n",
              "      <td>1.0</td>\n",
              "      <td>0.0</td>\n",
              "      <td>24131.0</td>\n",
              "      <td>29284.0</td>\n",
              "      <td>527.0</td>\n",
              "      <td>-457.0</td>\n",
              "      <td>-1218.0</td>\n",
              "      <td>-16.0</td>\n",
              "      <td>2.0</td>\n",
              "      <td>3.0</td>\n",
              "      <td>3.0</td>\n",
              "    </tr>\n",
              "  </tbody>\n",
              "</table>\n",
              "</div>"
            ],
            "text/plain": [
              "   result  firstblood  firstdragon  ...  killsat15  assistsat15  deathsat15\n",
              "0       0         1.0          1.0  ...        1.0          1.0         0.0\n",
              "1       1         0.0          0.0  ...        0.0          0.0         1.0\n",
              "2       0         0.0          0.0  ...        5.0          6.0         6.0\n",
              "3       1         1.0          1.0  ...        6.0          9.0         5.0\n",
              "4       0         1.0          1.0  ...        2.0          3.0         3.0\n",
              "\n",
              "[5 rows x 14 columns]"
            ]
          },
          "metadata": {},
          "execution_count": 4
        }
      ]
    },
    {
      "cell_type": "code",
      "metadata": {
        "id": "ABOakwWwhsVg",
        "colab": {
          "base_uri": "https://localhost:8080/"
        },
        "outputId": "3ffde153-3665-4023-837d-ac650cef7ced"
      },
      "source": [
        "df_feat.shape"
      ],
      "execution_count": 5,
      "outputs": [
        {
          "output_type": "execute_result",
          "data": {
            "text/plain": [
              "(682, 14)"
            ]
          },
          "metadata": {},
          "execution_count": 5
        }
      ]
    },
    {
      "cell_type": "code",
      "metadata": {
        "id": "mLjz6HRghxmp",
        "colab": {
          "base_uri": "https://localhost:8080/"
        },
        "outputId": "7149582e-787c-4d41-a482-8ae02406b0bc"
      },
      "source": [
        "df_feat.dtypes"
      ],
      "execution_count": 6,
      "outputs": [
        {
          "output_type": "execute_result",
          "data": {
            "text/plain": [
              "result            int64\n",
              "firstblood      float64\n",
              "firstdragon     float64\n",
              "firstherald     float64\n",
              "firsttower      float64\n",
              "goldat15        float64\n",
              "xpat15          float64\n",
              "csat15          float64\n",
              "golddiffat15    float64\n",
              "xpdiffat15      float64\n",
              "csdiffat15      float64\n",
              "killsat15       float64\n",
              "assistsat15     float64\n",
              "deathsat15      float64\n",
              "dtype: object"
            ]
          },
          "metadata": {},
          "execution_count": 6
        }
      ]
    },
    {
      "cell_type": "code",
      "metadata": {
        "id": "r-RoGXs9juJX",
        "colab": {
          "base_uri": "https://localhost:8080/"
        },
        "outputId": "00df330b-dcdb-41e1-a676-ce6eef1ea76d"
      },
      "source": [
        "df_feat.dropna(axis=0, how='any', thresh=None, subset=None, inplace=True)"
      ],
      "execution_count": 7,
      "outputs": [
        {
          "output_type": "stream",
          "name": "stderr",
          "text": [
            "/usr/local/lib/python3.7/dist-packages/ipykernel_launcher.py:1: SettingWithCopyWarning: \n",
            "A value is trying to be set on a copy of a slice from a DataFrame\n",
            "\n",
            "See the caveats in the documentation: https://pandas.pydata.org/pandas-docs/stable/user_guide/indexing.html#returning-a-view-versus-a-copy\n",
            "  \"\"\"Entry point for launching an IPython kernel.\n"
          ]
        }
      ]
    },
    {
      "cell_type": "code",
      "metadata": {
        "id": "8Tpa2F-ViECH"
      },
      "source": [
        "#Separamos los datos de entrada de la salida\n",
        "X = df_feat.drop('result', axis=1) #Elimino de mi dataset la variable a predecir\n",
        "y = df_feat.result #Defino el Target"
      ],
      "execution_count": 8,
      "outputs": []
    },
    {
      "cell_type": "code",
      "metadata": {
        "id": "4t5iiv-mh75e"
      },
      "source": [
        "#Separación del dataset, 30% para test y 70% para train\n",
        "X_train, X_test, y_train, y_test = train_test_split(X, y, test_size=0.30, random_state=42) "
      ],
      "execution_count": 9,
      "outputs": []
    },
    {
      "cell_type": "code",
      "metadata": {
        "id": "JRciqDErigdJ",
        "colab": {
          "base_uri": "https://localhost:8080/"
        },
        "outputId": "3ebb97b7-91b8-451f-8c57-bde9dddb916c"
      },
      "source": [
        "model = RandomForestClassifier(random_state=42, n_estimators=100,\n",
        "                               class_weight=\"balanced\",max_depth=8)\n",
        "model.fit(X_train, y_train)"
      ],
      "execution_count": 10,
      "outputs": [
        {
          "output_type": "execute_result",
          "data": {
            "text/plain": [
              "RandomForestClassifier(class_weight='balanced', max_depth=8, random_state=42)"
            ]
          },
          "metadata": {},
          "execution_count": 10
        }
      ]
    },
    {
      "cell_type": "code",
      "metadata": {
        "id": "eZ8vVBHvkkSN"
      },
      "source": [
        "y_train_pred = model.predict(X_train) #Prediccion en Train\n",
        "y_test_pred = model.predict(X_test) #Prediccion en Test"
      ],
      "execution_count": 15,
      "outputs": []
    },
    {
      "cell_type": "code",
      "metadata": {
        "id": "DDroG-QWknet",
        "colab": {
          "base_uri": "https://localhost:8080/"
        },
        "outputId": "b0612e4e-9e87-4011-c20d-58ba45781dd2"
      },
      "source": [
        "from sklearn.metrics import accuracy_score\n",
        "\n",
        "#Calculo el accuracy en Train\n",
        "train_accuracy = accuracy_score(y_train, y_train_pred)\n",
        "\n",
        "#Calculo el accuracy en Test\n",
        "test_accuracy = accuracy_score(y_test, y_test_pred)\n",
        "\n",
        "print('% de aciertos sobre el set de entrenamiento:', train_accuracy)\n",
        "print('% de aciertos sobre el set de evaluación:',test_accuracy)\n",
        "#Para este dataset el accuracy del random forest y el arbol de decisión es similar"
      ],
      "execution_count": 16,
      "outputs": [
        {
          "output_type": "stream",
          "name": "stdout",
          "text": [
            "% de aciertos sobre el set de entrenamiento: 0.9810126582278481\n",
            "% de aciertos sobre el set de evaluación: 0.75\n"
          ]
        }
      ]
    },
    {
      "cell_type": "code",
      "metadata": {
        "id": "dBCdOoqMlXjk",
        "colab": {
          "base_uri": "https://localhost:8080/",
          "height": 281
        },
        "outputId": "e159be39-bf27-4a23-9959-4522736de528"
      },
      "source": [
        "importances = model.feature_importances_\n",
        "imp = pd.DataFrame(importances,index=X.columns,columns=['importancia']).sort_values(by='importancia')\n",
        "imp.plot(kind='barh')\n",
        "plt.title('Importancia de cada Feature')\n",
        "plt.show()"
      ],
      "execution_count": 17,
      "outputs": [
        {
          "output_type": "display_data",
          "data": {
            "image/png": "[encoded data removed]",
            "text/plain": [
              "<Figure size 432x288 with 1 Axes>"
            ]
          },
          "metadata": {
            "needs_background": "light"
          }
        }
      ]
    },
    {
      "cell_type": "markdown",
      "metadata": {
        "id": "oaOuO8VfeneK"
      },
      "source": [
        "#Evaluación del modelo"
      ]
    },
    {
      "cell_type": "code",
      "metadata": {
        "colab": {
          "base_uri": "https://localhost:8080/"
        },
        "id": "OgORYPG9eonf",
        "outputId": "5ff346ea-b51f-4747-b053-97aa120866a1"
      },
      "source": [
        "#Calculo el accuracy en Test\n",
        "test_accuracy = accuracy_score(y_test, y_test_pred)\n",
        "\n",
        "print('% de aciertos sobre el set de evaluación:',test_accuracy)"
      ],
      "execution_count": 18,
      "outputs": [
        {
          "output_type": "stream",
          "name": "stdout",
          "text": [
            "% de aciertos sobre el set de evaluación: 0.75\n"
          ]
        }
      ]
    },
    {
      "cell_type": "code",
      "metadata": {
        "colab": {
          "base_uri": "https://localhost:8080/",
          "height": 368
        },
        "id": "3N8OClT8fMEm",
        "outputId": "b42d6a25-b85f-4642-a32a-0b568cd5be5a"
      },
      "source": [
        "import matplotlib.pyplot as plt\n",
        "from sklearn.metrics import confusion_matrix\n",
        "from sklearn.metrics import plot_confusion_matrix\n",
        "\n",
        "#Matriz de Confusión\n",
        "print(confusion_matrix(y_test, y_test_pred))\n",
        "\n",
        "#Ploteamos la Matriz\n",
        "plot_confusion_matrix(model, X_test, y_test)\n",
        "plt.show()\n",
        "\n"
      ],
      "execution_count": 20,
      "outputs": [
        {
          "output_type": "stream",
          "name": "stdout",
          "text": [
            "[[74 28]\n",
            " [23 79]]\n"
          ]
        },
        {
          "output_type": "stream",
          "name": "stderr",
          "text": [
            "/usr/local/lib/python3.7/dist-packages/sklearn/utils/deprecation.py:87: FutureWarning: Function plot_confusion_matrix is deprecated; Function `plot_confusion_matrix` is deprecated in 1.0 and will be removed in 1.2. Use one of the class methods: ConfusionMatrixDisplay.from_predictions or ConfusionMatrixDisplay.from_estimator.\n",
            "  warnings.warn(msg, category=FutureWarning)\n"
          ]
        },
        {
          "output_type": "display_data",
          "data": {
            "image/png": "[encoded data removed]",
            "text/plain": [
              "<Figure size 432x288 with 2 Axes>"
            ]
          },
          "metadata": {
            "needs_background": "light"
          }
        }
      ]
    },
    {
      "cell_type": "code",
      "metadata": {
        "colab": {
          "base_uri": "https://localhost:8080/"
        },
        "id": "zs6h9CeGfN6n",
        "outputId": "5232fa0b-56f0-4156-cde4-d5e43cb9e32d"
      },
      "source": [
        "cm = confusion_matrix(y_test, y_test_pred)\n",
        "precision = cm[1][1] / (cm[1][1]+cm[1][0])\n",
        "recall  = cm[1][1] / (cm[1][1]+cm[0][1])\n",
        "accuracy  = (cm[1][1]+cm[0][0]) / (cm[0][0]+cm[0][1]+cm[1][0]+cm[1][1])\n",
        "especifity  = cm[0][0] / (cm[0][0]+cm[0][1])\n",
        "print('precision:   % ',precision)\n",
        "print('recall:      % ',recall)\n",
        "print('accuracy:    % ',accuracy)\n",
        "print('especifity:  % ',especifity)"
      ],
      "execution_count": 21,
      "outputs": [
        {
          "output_type": "stream",
          "name": "stdout",
          "text": [
            "precision:   %  0.7745098039215687\n",
            "recall:      %  0.7383177570093458\n",
            "accuracy:    %  0.75\n",
            "especifity:  %  0.7254901960784313\n"
          ]
        }
      ]
    },
    {
      "cell_type": "code",
      "metadata": {
        "colab": {
          "base_uri": "https://localhost:8080/"
        },
        "id": "R2DfDAT2fYQ4",
        "outputId": "20c4838b-384a-4f73-deb8-56eaa6a26473"
      },
      "source": [
        "from sklearn.metrics import f1_score\n",
        "\n",
        "# Calculo del F1 score\n",
        "print(\"F1 Score:    % \", f1_score(y_test, y_test_pred))"
      ],
      "execution_count": 22,
      "outputs": [
        {
          "output_type": "stream",
          "name": "stdout",
          "text": [
            "F1 Score:    %  0.7559808612440191\n"
          ]
        }
      ]
    },
    {
      "cell_type": "markdown",
      "metadata": {
        "id": "wbbFFafZfaWM"
      },
      "source": [
        "#Curva ROC"
      ]
    },
    {
      "cell_type": "code",
      "metadata": {
        "colab": {
          "base_uri": "https://localhost:8080/",
          "height": 312
        },
        "id": "pStaxDw-fbD5",
        "outputId": "c058183f-ff56-44ca-e8e2-bd2f00356e27"
      },
      "source": [
        "from sklearn.metrics import roc_curve, auc\n",
        "\n",
        "class_probabilities = model.predict_proba(X_test)\n",
        "preds = class_probabilities[:, 1]\n",
        "\n",
        "fpr, tpr, threshold = roc_curve(y_test, y_test_pred)\n",
        "roc_auc = auc(fpr, tpr)\n",
        "\n",
        "# AUC\n",
        "print(f\"AUC for our classifier is: {roc_auc}\")\n",
        "\n",
        "# Gráfica de la Curva ROC\n",
        "plt.title('Receiver Operating Characteristic')\n",
        "plt.plot(fpr, tpr, 'b', label = 'AUC = %0.2f' % roc_auc)\n",
        "plt.legend(loc = 'lower right')\n",
        "plt.plot([0, 1], [0, 1],'r--')\n",
        "plt.xlim([0, 1])\n",
        "plt.ylim([0, 1])\n",
        "plt.ylabel('True Positive Rate')\n",
        "plt.xlabel('False Positive Rate')\n",
        "plt.show()"
      ],
      "execution_count": 23,
      "outputs": [
        {
          "output_type": "stream",
          "name": "stdout",
          "text": [
            "AUC for our classifier is: 0.7499999999999999\n"
          ]
        },
        {
          "output_type": "display_data",
          "data": {
            "image/png": "[encoded data removed]",
            "text/plain": [
              "<Figure size 432x288 with 1 Axes>"
            ]
          },
          "metadata": {
            "needs_background": "light"
          }
        }
      ]
    }
  ]
}